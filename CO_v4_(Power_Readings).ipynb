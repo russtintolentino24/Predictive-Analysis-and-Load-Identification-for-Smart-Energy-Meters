{
  "cells": [
    {
      "cell_type": "markdown",
      "metadata": {
        "id": "view-in-github",
        "colab_type": "text"
      },
      "source": [
        "<a href=\"https://colab.research.google.com/github/russtintolentino24/Predictive-Analysis-and-Load-Identification-for-Smart-Energy-Meters/blob/main/CO_v4_(Power_Readings).ipynb\" target=\"_parent\"><img src=\"https://colab.research.google.com/assets/colab-badge.svg\" alt=\"Open In Colab\"/></a>"
      ]
    },
    {
      "cell_type": "markdown",
      "source": [
        "Install and import all necessary libraries."
      ],
      "metadata": {
        "id": "4IL1NZNbNspv"
      }
    },
    {
      "cell_type": "code",
      "execution_count": null,
      "metadata": {
        "colab": {
          "base_uri": "https://localhost:8080/"
        },
        "id": "LDt3-Gqd2XJs",
        "outputId": "cebd020d-0166-43d8-e8d3-7b3438b75643"
      },
      "outputs": [
        {
          "output_type": "stream",
          "name": "stdout",
          "text": [
            "Requirement already satisfied: numpy in /usr/local/lib/python3.7/dist-packages (1.19.5)\n"
          ]
        }
      ],
      "source": [
        " pip install numpy"
      ]
    },
    {
      "cell_type": "code",
      "execution_count": null,
      "metadata": {
        "colab": {
          "base_uri": "https://localhost:8080/"
        },
        "id": "d4kWvdXl2pVm",
        "outputId": "1eb8e9c2-f693-4434-84b2-6120bdf305a5"
      },
      "outputs": [
        {
          "output_type": "stream",
          "name": "stdout",
          "text": [
            "Requirement already satisfied: sklearn in /usr/local/lib/python3.7/dist-packages (0.0)\n",
            "Requirement already satisfied: scikit-learn in /usr/local/lib/python3.7/dist-packages (from sklearn) (1.0.2)\n",
            "Requirement already satisfied: numpy>=1.14.6 in /usr/local/lib/python3.7/dist-packages (from scikit-learn->sklearn) (1.19.5)\n",
            "Requirement already satisfied: joblib>=0.11 in /usr/local/lib/python3.7/dist-packages (from scikit-learn->sklearn) (1.1.0)\n",
            "Requirement already satisfied: threadpoolctl>=2.0.0 in /usr/local/lib/python3.7/dist-packages (from scikit-learn->sklearn) (3.0.0)\n",
            "Requirement already satisfied: scipy>=1.1.0 in /usr/local/lib/python3.7/dist-packages (from scikit-learn->sklearn) (1.4.1)\n"
          ]
        }
      ],
      "source": [
        "pip install sklearn"
      ]
    },
    {
      "cell_type": "code",
      "execution_count": null,
      "metadata": {
        "colab": {
          "base_uri": "https://localhost:8080/"
        },
        "id": "sa5P0qGV3XIQ",
        "outputId": "0db3df90-e96f-4c1e-f4e2-4ec47918f459"
      },
      "outputs": [
        {
          "output_type": "stream",
          "name": "stdout",
          "text": [
            "Collecting kneed\n",
            "  Downloading kneed-0.7.0-py2.py3-none-any.whl (9.4 kB)\n",
            "Requirement already satisfied: scipy in /usr/local/lib/python3.7/dist-packages (from kneed) (1.4.1)\n",
            "Requirement already satisfied: matplotlib in /usr/local/lib/python3.7/dist-packages (from kneed) (3.2.2)\n",
            "Requirement already satisfied: numpy>=1.14.2 in /usr/local/lib/python3.7/dist-packages (from kneed) (1.19.5)\n",
            "Requirement already satisfied: cycler>=0.10 in /usr/local/lib/python3.7/dist-packages (from matplotlib->kneed) (0.11.0)\n",
            "Requirement already satisfied: pyparsing!=2.0.4,!=2.1.2,!=2.1.6,>=2.0.1 in /usr/local/lib/python3.7/dist-packages (from matplotlib->kneed) (3.0.6)\n",
            "Requirement already satisfied: python-dateutil>=2.1 in /usr/local/lib/python3.7/dist-packages (from matplotlib->kneed) (2.8.2)\n",
            "Requirement already satisfied: kiwisolver>=1.0.1 in /usr/local/lib/python3.7/dist-packages (from matplotlib->kneed) (1.3.2)\n",
            "Requirement already satisfied: six>=1.5 in /usr/local/lib/python3.7/dist-packages (from python-dateutil>=2.1->matplotlib->kneed) (1.15.0)\n",
            "Installing collected packages: kneed\n",
            "Successfully installed kneed-0.7.0\n"
          ]
        }
      ],
      "source": [
        "pip install kneed"
      ]
    },
    {
      "cell_type": "code",
      "execution_count": null,
      "metadata": {
        "id": "-Cy4URcxSVL3"
      },
      "outputs": [],
      "source": [
        "import pickle"
      ]
    },
    {
      "cell_type": "code",
      "source": [
        "from sklearn.decomposition import PCA"
      ],
      "metadata": {
        "id": "cd_ewRSQqjuw"
      },
      "execution_count": null,
      "outputs": []
    },
    {
      "cell_type": "code",
      "execution_count": null,
      "metadata": {
        "id": "nKTzxfxU20AB"
      },
      "outputs": [],
      "source": [
        "from sklearn.model_selection import train_test_split"
      ]
    },
    {
      "cell_type": "code",
      "execution_count": null,
      "metadata": {
        "colab": {
          "base_uri": "https://localhost:8080/"
        },
        "id": "GqMJgUfU264y",
        "outputId": "2b6ec551-5ef5-422c-87ac-b153d26d7677"
      },
      "outputs": [
        {
          "output_type": "stream",
          "name": "stdout",
          "text": [
            "Mounted at /content/drive\n"
          ]
        }
      ],
      "source": [
        "from google.colab import drive\n",
        "drive.mount(\"/content/drive\")\n",
        "import numpy as np\n",
        "import pandas as pd\n",
        "from math import isnan"
      ]
    },
    {
      "cell_type": "code",
      "execution_count": null,
      "metadata": {
        "id": "BnbQ__1hv4zG"
      },
      "outputs": [],
      "source": [
        "from sklearn.cluster import KMeans\n",
        "from kneed import KneeLocator"
      ]
    },
    {
      "cell_type": "code",
      "execution_count": null,
      "metadata": {
        "id": "CcTdgT3eVaql"
      },
      "outputs": [],
      "source": [
        "import matplotlib.pyplot as plt"
      ]
    },
    {
      "cell_type": "markdown",
      "source": [
        "Check data"
      ],
      "metadata": {
        "id": "CLcLO_d4jH9E"
      }
    },
    {
      "cell_type": "code",
      "execution_count": null,
      "metadata": {
        "colab": {
          "base_uri": "https://localhost:8080/",
          "height": 424
        },
        "id": "wYSzsbWr2EAV",
        "outputId": "c68b83ab-c6ea-4729-fdcb-d126aae6df02"
      },
      "outputs": [
        {
          "output_type": "execute_result",
          "data": {
            "text/html": [
              "\n",
              "  <div id=\"df-d60bd1b7-b647-4473-ae5e-ea449fe1fd02\">\n",
              "    <div class=\"colab-df-container\">\n",
              "      <div>\n",
              "<style scoped>\n",
              "    .dataframe tbody tr th:only-of-type {\n",
              "        vertical-align: middle;\n",
              "    }\n",
              "\n",
              "    .dataframe tbody tr th {\n",
              "        vertical-align: top;\n",
              "    }\n",
              "\n",
              "    .dataframe thead th {\n",
              "        text-align: right;\n",
              "    }\n",
              "</style>\n",
              "<table border=\"1\" class=\"dataframe\">\n",
              "  <thead>\n",
              "    <tr style=\"text-align: right;\">\n",
              "      <th></th>\n",
              "      <th>power</th>\n",
              "    </tr>\n",
              "  </thead>\n",
              "  <tbody>\n",
              "    <tr>\n",
              "      <th>0</th>\n",
              "      <td>125</td>\n",
              "    </tr>\n",
              "    <tr>\n",
              "      <th>1</th>\n",
              "      <td>125</td>\n",
              "    </tr>\n",
              "    <tr>\n",
              "      <th>2</th>\n",
              "      <td>125</td>\n",
              "    </tr>\n",
              "    <tr>\n",
              "      <th>3</th>\n",
              "      <td>125</td>\n",
              "    </tr>\n",
              "    <tr>\n",
              "      <th>4</th>\n",
              "      <td>125</td>\n",
              "    </tr>\n",
              "    <tr>\n",
              "      <th>...</th>\n",
              "      <td>...</td>\n",
              "    </tr>\n",
              "    <tr>\n",
              "      <th>3372</th>\n",
              "      <td>17</td>\n",
              "    </tr>\n",
              "    <tr>\n",
              "      <th>3373</th>\n",
              "      <td>15</td>\n",
              "    </tr>\n",
              "    <tr>\n",
              "      <th>3374</th>\n",
              "      <td>13</td>\n",
              "    </tr>\n",
              "    <tr>\n",
              "      <th>3375</th>\n",
              "      <td>18</td>\n",
              "    </tr>\n",
              "    <tr>\n",
              "      <th>3376</th>\n",
              "      <td>14</td>\n",
              "    </tr>\n",
              "  </tbody>\n",
              "</table>\n",
              "<p>3377 rows × 1 columns</p>\n",
              "</div>\n",
              "      <button class=\"colab-df-convert\" onclick=\"convertToInteractive('df-d60bd1b7-b647-4473-ae5e-ea449fe1fd02')\"\n",
              "              title=\"Convert this dataframe to an interactive table.\"\n",
              "              style=\"display:none;\">\n",
              "        \n",
              "  <svg xmlns=\"http://www.w3.org/2000/svg\" height=\"24px\"viewBox=\"0 0 24 24\"\n",
              "       width=\"24px\">\n",
              "    <path d=\"M0 0h24v24H0V0z\" fill=\"none\"/>\n",
              "    <path d=\"M18.56 5.44l.94 2.06.94-2.06 2.06-.94-2.06-.94-.94-2.06-.94 2.06-2.06.94zm-11 1L8.5 8.5l.94-2.06 2.06-.94-2.06-.94L8.5 2.5l-.94 2.06-2.06.94zm10 10l.94 2.06.94-2.06 2.06-.94-2.06-.94-.94-2.06-.94 2.06-2.06.94z\"/><path d=\"M17.41 7.96l-1.37-1.37c-.4-.4-.92-.59-1.43-.59-.52 0-1.04.2-1.43.59L10.3 9.45l-7.72 7.72c-.78.78-.78 2.05 0 2.83L4 21.41c.39.39.9.59 1.41.59.51 0 1.02-.2 1.41-.59l7.78-7.78 2.81-2.81c.8-.78.8-2.07 0-2.86zM5.41 20L4 18.59l7.72-7.72 1.47 1.35L5.41 20z\"/>\n",
              "  </svg>\n",
              "      </button>\n",
              "      \n",
              "  <style>\n",
              "    .colab-df-container {\n",
              "      display:flex;\n",
              "      flex-wrap:wrap;\n",
              "      gap: 12px;\n",
              "    }\n",
              "\n",
              "    .colab-df-convert {\n",
              "      background-color: #E8F0FE;\n",
              "      border: none;\n",
              "      border-radius: 50%;\n",
              "      cursor: pointer;\n",
              "      display: none;\n",
              "      fill: #1967D2;\n",
              "      height: 32px;\n",
              "      padding: 0 0 0 0;\n",
              "      width: 32px;\n",
              "    }\n",
              "\n",
              "    .colab-df-convert:hover {\n",
              "      background-color: #E2EBFA;\n",
              "      box-shadow: 0px 1px 2px rgba(60, 64, 67, 0.3), 0px 1px 3px 1px rgba(60, 64, 67, 0.15);\n",
              "      fill: #174EA6;\n",
              "    }\n",
              "\n",
              "    [theme=dark] .colab-df-convert {\n",
              "      background-color: #3B4455;\n",
              "      fill: #D2E3FC;\n",
              "    }\n",
              "\n",
              "    [theme=dark] .colab-df-convert:hover {\n",
              "      background-color: #434B5C;\n",
              "      box-shadow: 0px 1px 3px 1px rgba(0, 0, 0, 0.15);\n",
              "      filter: drop-shadow(0px 1px 2px rgba(0, 0, 0, 0.3));\n",
              "      fill: #FFFFFF;\n",
              "    }\n",
              "  </style>\n",
              "\n",
              "      <script>\n",
              "        const buttonEl =\n",
              "          document.querySelector('#df-d60bd1b7-b647-4473-ae5e-ea449fe1fd02 button.colab-df-convert');\n",
              "        buttonEl.style.display =\n",
              "          google.colab.kernel.accessAllowed ? 'block' : 'none';\n",
              "\n",
              "        async function convertToInteractive(key) {\n",
              "          const element = document.querySelector('#df-d60bd1b7-b647-4473-ae5e-ea449fe1fd02');\n",
              "          const dataTable =\n",
              "            await google.colab.kernel.invokeFunction('convertToInteractive',\n",
              "                                                     [key], {});\n",
              "          if (!dataTable) return;\n",
              "\n",
              "          const docLinkHtml = 'Like what you see? Visit the ' +\n",
              "            '<a target=\"_blank\" href=https://colab.research.google.com/notebooks/data_table.ipynb>data table notebook</a>'\n",
              "            + ' to learn more about interactive tables.';\n",
              "          element.innerHTML = '';\n",
              "          dataTable['output_type'] = 'display_data';\n",
              "          await google.colab.output.renderOutput(dataTable, element);\n",
              "          const docLink = document.createElement('div');\n",
              "          docLink.innerHTML = docLinkHtml;\n",
              "          element.appendChild(docLink);\n",
              "        }\n",
              "      </script>\n",
              "    </div>\n",
              "  </div>\n",
              "  "
            ],
            "text/plain": [
              "      power\n",
              "0       125\n",
              "1       125\n",
              "2       125\n",
              "3       125\n",
              "4       125\n",
              "...     ...\n",
              "3372     17\n",
              "3373     15\n",
              "3374     13\n",
              "3375     18\n",
              "3376     14\n",
              "\n",
              "[3377 rows x 1 columns]"
            ]
          },
          "metadata": {},
          "execution_count": 10
        }
      ],
      "source": [
        "col_names = [\"time\", \"power\", \"apparent_power\", \"reactive_power\", \"factor\", \"voltage\", \"current\"]\n",
        "data = pd.read_csv('/content/drive/MyDrive/Colab Notebooks/Datasets/11-30-cleansed.csv', names = col_names, header = None)\n",
        "data = data[1:]\n",
        "data = pd.DataFrame(data, columns = [\"power\"])\n",
        "data.astype(float)\n",
        "data = np.asarray(data)\n",
        "data = [float(x) for x in data]\n",
        "data = [int(x) for x in data]\n",
        "data = pd.DataFrame(data, columns = ['power'])\n",
        "data"
      ]
    },
    {
      "cell_type": "markdown",
      "source": [
        "# Data Preprocessing"
      ],
      "metadata": {
        "id": "dersxOXcjS6q"
      }
    },
    {
      "cell_type": "code",
      "execution_count": null,
      "metadata": {
        "id": "XiKfP8p4wEqM"
      },
      "outputs": [],
      "source": [
        "def kmeans():  \n",
        "  col_names = [\"time\", \"power\", \"apparent_power\", \"reactive_power\", \"factor\", \"voltage\", \"current\"]\n",
        "  data = pd.read_csv('/content/drive/MyDrive/Colab Notebooks/Datasets/11-30-cleansed.csv', names = col_names, header = None)\n",
        "  data = pd.DataFrame(data, columns = ['power'])\n",
        "  data = data[1:]\n",
        "  data = np.asarray(data)\n",
        "  data = [float(x) for x in data]\n",
        "  data = [int(x) for x in data]\n",
        "  data = pd.DataFrame(data, columns = ['power'])\n",
        "\n",
        "\n",
        "  sse = []\n",
        "  k_rng = range(1,50)\n",
        "  for k in k_rng:\n",
        "      km = KMeans(n_clusters = k)\n",
        "      SDFA = np.asarray(data).reshape(-1, 1)\n",
        "      arr = np.array(data['power'].tolist())\n",
        "      arrr = arr.reshape(-1, 1)\n",
        "      km.fit(data)\n",
        "      sse.append(km.inertia_)\n",
        "\n",
        "  plt.xlabel('K')\n",
        "  plt.ylabel('Sum of squared error')\n",
        "  plt.plot(k_rng,sse)\n",
        "\n",
        "  kn = KneeLocator(k_rng, sse, curve='convex', direction='decreasing')\n",
        "  print(kn.knee)\n",
        "  km_predicted = KMeans(n_clusters = kn.knee)\n",
        "  y_predicted = km_predicted.fit_predict(data)\n",
        "\n",
        "  data['cluster'] = y_predicted\n",
        "  return data"
      ]
    },
    {
      "cell_type": "code",
      "source": [
        "#Functionality Check\n",
        "kmeans()"
      ],
      "metadata": {
        "colab": {
          "base_uri": "https://localhost:8080/",
          "height": 821
        },
        "id": "isEiwVS76k84",
        "outputId": "20de0e3c-cc7e-462a-d4df-fabba9351a70"
      },
      "execution_count": null,
      "outputs": [
        {
          "output_type": "stream",
          "name": "stderr",
          "text": [
            "/usr/local/lib/python3.7/dist-packages/ipykernel_launcher.py:19: ConvergenceWarning: Number of distinct clusters (44) found smaller than n_clusters (45). Possibly due to duplicate points in X.\n",
            "/usr/local/lib/python3.7/dist-packages/ipykernel_launcher.py:19: ConvergenceWarning: Number of distinct clusters (44) found smaller than n_clusters (46). Possibly due to duplicate points in X.\n",
            "/usr/local/lib/python3.7/dist-packages/ipykernel_launcher.py:19: ConvergenceWarning: Number of distinct clusters (44) found smaller than n_clusters (47). Possibly due to duplicate points in X.\n",
            "/usr/local/lib/python3.7/dist-packages/ipykernel_launcher.py:19: ConvergenceWarning: Number of distinct clusters (44) found smaller than n_clusters (48). Possibly due to duplicate points in X.\n"
          ]
        },
        {
          "output_type": "stream",
          "name": "stdout",
          "text": [
            "3\n"
          ]
        },
        {
          "output_type": "stream",
          "name": "stderr",
          "text": [
            "/usr/local/lib/python3.7/dist-packages/ipykernel_launcher.py:19: ConvergenceWarning: Number of distinct clusters (44) found smaller than n_clusters (49). Possibly due to duplicate points in X.\n"
          ]
        },
        {
          "output_type": "execute_result",
          "data": {
            "text/html": [
              "\n",
              "  <div id=\"df-d0863202-a536-4366-b8b0-55eeb7f8b3f8\">\n",
              "    <div class=\"colab-df-container\">\n",
              "      <div>\n",
              "<style scoped>\n",
              "    .dataframe tbody tr th:only-of-type {\n",
              "        vertical-align: middle;\n",
              "    }\n",
              "\n",
              "    .dataframe tbody tr th {\n",
              "        vertical-align: top;\n",
              "    }\n",
              "\n",
              "    .dataframe thead th {\n",
              "        text-align: right;\n",
              "    }\n",
              "</style>\n",
              "<table border=\"1\" class=\"dataframe\">\n",
              "  <thead>\n",
              "    <tr style=\"text-align: right;\">\n",
              "      <th></th>\n",
              "      <th>power</th>\n",
              "      <th>cluster</th>\n",
              "    </tr>\n",
              "  </thead>\n",
              "  <tbody>\n",
              "    <tr>\n",
              "      <th>0</th>\n",
              "      <td>125</td>\n",
              "      <td>2</td>\n",
              "    </tr>\n",
              "    <tr>\n",
              "      <th>1</th>\n",
              "      <td>125</td>\n",
              "      <td>2</td>\n",
              "    </tr>\n",
              "    <tr>\n",
              "      <th>2</th>\n",
              "      <td>125</td>\n",
              "      <td>2</td>\n",
              "    </tr>\n",
              "    <tr>\n",
              "      <th>3</th>\n",
              "      <td>125</td>\n",
              "      <td>2</td>\n",
              "    </tr>\n",
              "    <tr>\n",
              "      <th>4</th>\n",
              "      <td>125</td>\n",
              "      <td>2</td>\n",
              "    </tr>\n",
              "    <tr>\n",
              "      <th>...</th>\n",
              "      <td>...</td>\n",
              "      <td>...</td>\n",
              "    </tr>\n",
              "    <tr>\n",
              "      <th>3372</th>\n",
              "      <td>17</td>\n",
              "      <td>0</td>\n",
              "    </tr>\n",
              "    <tr>\n",
              "      <th>3373</th>\n",
              "      <td>15</td>\n",
              "      <td>0</td>\n",
              "    </tr>\n",
              "    <tr>\n",
              "      <th>3374</th>\n",
              "      <td>13</td>\n",
              "      <td>0</td>\n",
              "    </tr>\n",
              "    <tr>\n",
              "      <th>3375</th>\n",
              "      <td>18</td>\n",
              "      <td>0</td>\n",
              "    </tr>\n",
              "    <tr>\n",
              "      <th>3376</th>\n",
              "      <td>14</td>\n",
              "      <td>0</td>\n",
              "    </tr>\n",
              "  </tbody>\n",
              "</table>\n",
              "<p>3377 rows × 2 columns</p>\n",
              "</div>\n",
              "      <button class=\"colab-df-convert\" onclick=\"convertToInteractive('df-d0863202-a536-4366-b8b0-55eeb7f8b3f8')\"\n",
              "              title=\"Convert this dataframe to an interactive table.\"\n",
              "              style=\"display:none;\">\n",
              "        \n",
              "  <svg xmlns=\"http://www.w3.org/2000/svg\" height=\"24px\"viewBox=\"0 0 24 24\"\n",
              "       width=\"24px\">\n",
              "    <path d=\"M0 0h24v24H0V0z\" fill=\"none\"/>\n",
              "    <path d=\"M18.56 5.44l.94 2.06.94-2.06 2.06-.94-2.06-.94-.94-2.06-.94 2.06-2.06.94zm-11 1L8.5 8.5l.94-2.06 2.06-.94-2.06-.94L8.5 2.5l-.94 2.06-2.06.94zm10 10l.94 2.06.94-2.06 2.06-.94-2.06-.94-.94-2.06-.94 2.06-2.06.94z\"/><path d=\"M17.41 7.96l-1.37-1.37c-.4-.4-.92-.59-1.43-.59-.52 0-1.04.2-1.43.59L10.3 9.45l-7.72 7.72c-.78.78-.78 2.05 0 2.83L4 21.41c.39.39.9.59 1.41.59.51 0 1.02-.2 1.41-.59l7.78-7.78 2.81-2.81c.8-.78.8-2.07 0-2.86zM5.41 20L4 18.59l7.72-7.72 1.47 1.35L5.41 20z\"/>\n",
              "  </svg>\n",
              "      </button>\n",
              "      \n",
              "  <style>\n",
              "    .colab-df-container {\n",
              "      display:flex;\n",
              "      flex-wrap:wrap;\n",
              "      gap: 12px;\n",
              "    }\n",
              "\n",
              "    .colab-df-convert {\n",
              "      background-color: #E8F0FE;\n",
              "      border: none;\n",
              "      border-radius: 50%;\n",
              "      cursor: pointer;\n",
              "      display: none;\n",
              "      fill: #1967D2;\n",
              "      height: 32px;\n",
              "      padding: 0 0 0 0;\n",
              "      width: 32px;\n",
              "    }\n",
              "\n",
              "    .colab-df-convert:hover {\n",
              "      background-color: #E2EBFA;\n",
              "      box-shadow: 0px 1px 2px rgba(60, 64, 67, 0.3), 0px 1px 3px 1px rgba(60, 64, 67, 0.15);\n",
              "      fill: #174EA6;\n",
              "    }\n",
              "\n",
              "    [theme=dark] .colab-df-convert {\n",
              "      background-color: #3B4455;\n",
              "      fill: #D2E3FC;\n",
              "    }\n",
              "\n",
              "    [theme=dark] .colab-df-convert:hover {\n",
              "      background-color: #434B5C;\n",
              "      box-shadow: 0px 1px 3px 1px rgba(0, 0, 0, 0.15);\n",
              "      filter: drop-shadow(0px 1px 2px rgba(0, 0, 0, 0.3));\n",
              "      fill: #FFFFFF;\n",
              "    }\n",
              "  </style>\n",
              "\n",
              "      <script>\n",
              "        const buttonEl =\n",
              "          document.querySelector('#df-d0863202-a536-4366-b8b0-55eeb7f8b3f8 button.colab-df-convert');\n",
              "        buttonEl.style.display =\n",
              "          google.colab.kernel.accessAllowed ? 'block' : 'none';\n",
              "\n",
              "        async function convertToInteractive(key) {\n",
              "          const element = document.querySelector('#df-d0863202-a536-4366-b8b0-55eeb7f8b3f8');\n",
              "          const dataTable =\n",
              "            await google.colab.kernel.invokeFunction('convertToInteractive',\n",
              "                                                     [key], {});\n",
              "          if (!dataTable) return;\n",
              "\n",
              "          const docLinkHtml = 'Like what you see? Visit the ' +\n",
              "            '<a target=\"_blank\" href=https://colab.research.google.com/notebooks/data_table.ipynb>data table notebook</a>'\n",
              "            + ' to learn more about interactive tables.';\n",
              "          element.innerHTML = '';\n",
              "          dataTable['output_type'] = 'display_data';\n",
              "          await google.colab.output.renderOutput(dataTable, element);\n",
              "          const docLink = document.createElement('div');\n",
              "          docLink.innerHTML = docLinkHtml;\n",
              "          element.appendChild(docLink);\n",
              "        }\n",
              "      </script>\n",
              "    </div>\n",
              "  </div>\n",
              "  "
            ],
            "text/plain": [
              "      power  cluster\n",
              "0       125        2\n",
              "1       125        2\n",
              "2       125        2\n",
              "3       125        2\n",
              "4       125        2\n",
              "...     ...      ...\n",
              "3372     17        0\n",
              "3373     15        0\n",
              "3374     13        0\n",
              "3375     18        0\n",
              "3376     14        0\n",
              "\n",
              "[3377 rows x 2 columns]"
            ]
          },
          "metadata": {},
          "execution_count": 12
        },
        {
          "output_type": "display_data",
          "data": {
            "image/png": "[encoded data removed]",
            "text/plain": [
              "<Figure size 432x288 with 1 Axes>"
            ]
          },
          "metadata": {
            "needs_background": "light"
          }
        }
      ]
    },
    {
      "cell_type": "markdown",
      "source": [
        "\n",
        "1. Input from KMeans function output.\n",
        "2. Filter each file such that only the nonzero values will be considered.\n",
        "3. For optimization, limit the number of data points to 1000.\n",
        "4. Combine all the appliances' data into one dataframe."
      ],
      "metadata": {
        "id": "69o9CvlujctW"
      }
    },
    {
      "cell_type": "code",
      "execution_count": null,
      "metadata": {
        "id": "rfAIDpOV7JVF"
      },
      "outputs": [],
      "source": [
        "def prepData():\n",
        "  kmeans_data = kmeans()\n",
        "  kmeans_data = pd.DataFrame(kmeans_data, columns = ['power', 'cluster'])\n",
        "  col_names = ['time', 'power']\n",
        "  # print(kmeans_data)\n",
        "  c0 = kmeans_data.loc[kmeans_data['cluster'] == 0]\n",
        "  c1 = kmeans_data.loc[kmeans_data['cluster'] == 1]\n",
        "  c2 = kmeans_data.loc[kmeans_data['cluster'] == 2]\n",
        "\n",
        "  c0 = c0[c0['power'] != 0]\n",
        "  c0.reset_index(drop = True, inplace = True)\n",
        "  c1 = c1[c1['power'] != 0]\n",
        "  c1.reset_index(drop = True, inplace = True)\n",
        "  c2 = c2[c2['power'] != 0]\n",
        "  c2.reset_index(drop = True, inplace = True)\n",
        "\n",
        "  c0_lim = c0.loc[1:1000, ['power']]\n",
        "  c1_lim = c1.loc[1:1000, ['power']]\n",
        "  c2_lim = c2.loc[1:1000, ['power']]\n",
        "\n",
        "  zero_df = pd.DataFrame(0, index = range(1000), columns = range(1))\n",
        "  zero_df.index = np.arange(1, len(zero_df) + 1)\n",
        "\n",
        "  #individual appliances\n",
        "  df_c0 = pd.concat([c0_lim, c0_lim, zero_df, zero_df], axis = 1)\n",
        "  df_c0 = df_c0.set_axis(['total', 'c0', 'c1', 'c2'], axis = 1)\n",
        "  df_c1 = pd.concat([c1_lim, zero_df, c1_lim, zero_df], axis = 1)\n",
        "  df_c1 = df_c1.set_axis(['total', 'c0', 'c1', 'c2'], axis = 1)\n",
        "  df_c2 = pd.concat([c2_lim, zero_df, zero_df, c2_lim], axis = 1)\n",
        "  df_c2 = df_c2.set_axis(['total', 'c0', 'c1', 'c2'], axis = 1)\n",
        "  df = pd.concat([df_c0, df_c1, df_c2], axis = 0, ignore_index = True)\n",
        "\n",
        "  #by twos\n",
        "  c0_1 = pd.concat([c0_lim + c1_lim, c0_lim, c1_lim, zero_df], axis = 1)\n",
        "  c0_1 = c0_1.set_axis(['total', 'c0', 'c1', 'c2'], axis = 1)\n",
        "  c0_2 = pd.concat([c0_lim + c2_lim, c0_lim, zero_df, c2_lim], axis = 1)\n",
        "  c0_2 = c0_2.set_axis(['total', 'c0', 'c1', 'c2'], axis = 1)\n",
        "  c1_2 = pd.concat([c1_lim + c2_lim, zero_df, c1_lim, c2_lim], axis = 1)\n",
        "  c1_2 = c1_2.set_axis(['total', 'c0', 'c1', 'c2'], axis = 1)\n",
        "  df = pd.concat([df, c0_1, c0_2, c1_2], axis = 0, ignore_index=True)\n",
        "\n",
        "  #all\n",
        "  c0_1_2 = pd.concat([c0_lim + c1_lim + c2_lim, c0_lim, c1_lim, c2_lim], axis = 1)\n",
        "  c0_1_2 = c1_2.set_axis(['total', 'c0', 'c1', 'c2'], axis = 1)\n",
        "  df = pd.concat([df, c0_1_2], axis = 0, ignore_index = True)\n",
        "  # df.c0.astype(float)\n",
        "  # df.c1.apply(float)\n",
        "  # df.c2.apply(float)\n",
        "  # df.total.apply(float)\n",
        "\n",
        "  # for i, rows in df.iterrows():\n",
        "  #   if isnan(rows.c0):\n",
        "  #     df.c0.iloc[i] = 0\n",
        "  # for i, rows in df.iterrows():\n",
        "  #   if isnan(rows.c1):\n",
        "  #     df.c1.iloc[i] = 0      \n",
        "  # for i, rows in df.iterrows():\n",
        "  #   if isnan(rows.c2):\n",
        "  #     df.c2.iloc[i] = 0      \n",
        "  # for i, rows in df.iterrows():\n",
        "  #   if isnan(rows.total):\n",
        "  #     df.total.iloc[i] = 0         \n",
        "\n",
        "  return df"
      ]
    },
    {
      "cell_type": "code",
      "execution_count": null,
      "metadata": {
        "colab": {
          "base_uri": "https://localhost:8080/",
          "height": 821
        },
        "id": "9tyjmjTtOquM",
        "outputId": "304579c3-4aa4-4d90-a4eb-879eeff4999d"
      },
      "outputs": [
        {
          "output_type": "stream",
          "name": "stderr",
          "text": [
            "/usr/local/lib/python3.7/dist-packages/ipykernel_launcher.py:19: ConvergenceWarning: Number of distinct clusters (44) found smaller than n_clusters (45). Possibly due to duplicate points in X.\n",
            "/usr/local/lib/python3.7/dist-packages/ipykernel_launcher.py:19: ConvergenceWarning: Number of distinct clusters (44) found smaller than n_clusters (46). Possibly due to duplicate points in X.\n",
            "/usr/local/lib/python3.7/dist-packages/ipykernel_launcher.py:19: ConvergenceWarning: Number of distinct clusters (44) found smaller than n_clusters (47). Possibly due to duplicate points in X.\n",
            "/usr/local/lib/python3.7/dist-packages/ipykernel_launcher.py:19: ConvergenceWarning: Number of distinct clusters (44) found smaller than n_clusters (48). Possibly due to duplicate points in X.\n"
          ]
        },
        {
          "output_type": "stream",
          "name": "stdout",
          "text": [
            "3\n"
          ]
        },
        {
          "output_type": "stream",
          "name": "stderr",
          "text": [
            "/usr/local/lib/python3.7/dist-packages/ipykernel_launcher.py:19: ConvergenceWarning: Number of distinct clusters (44) found smaller than n_clusters (49). Possibly due to duplicate points in X.\n"
          ]
        },
        {
          "output_type": "execute_result",
          "data": {
            "text/html": [
              "\n",
              "  <div id=\"df-8426cac9-264f-4095-af30-b5c36529cf75\">\n",
              "    <div class=\"colab-df-container\">\n",
              "      <div>\n",
              "<style scoped>\n",
              "    .dataframe tbody tr th:only-of-type {\n",
              "        vertical-align: middle;\n",
              "    }\n",
              "\n",
              "    .dataframe tbody tr th {\n",
              "        vertical-align: top;\n",
              "    }\n",
              "\n",
              "    .dataframe thead th {\n",
              "        text-align: right;\n",
              "    }\n",
              "</style>\n",
              "<table border=\"1\" class=\"dataframe\">\n",
              "  <thead>\n",
              "    <tr style=\"text-align: right;\">\n",
              "      <th></th>\n",
              "      <th>total</th>\n",
              "      <th>c0</th>\n",
              "      <th>c1</th>\n",
              "      <th>c2</th>\n",
              "    </tr>\n",
              "  </thead>\n",
              "  <tbody>\n",
              "    <tr>\n",
              "      <th>0</th>\n",
              "      <td>27.0</td>\n",
              "      <td>27</td>\n",
              "      <td>0.0</td>\n",
              "      <td>0</td>\n",
              "    </tr>\n",
              "    <tr>\n",
              "      <th>1</th>\n",
              "      <td>20.0</td>\n",
              "      <td>20</td>\n",
              "      <td>0.0</td>\n",
              "      <td>0</td>\n",
              "    </tr>\n",
              "    <tr>\n",
              "      <th>2</th>\n",
              "      <td>20.0</td>\n",
              "      <td>20</td>\n",
              "      <td>0.0</td>\n",
              "      <td>0</td>\n",
              "    </tr>\n",
              "    <tr>\n",
              "      <th>3</th>\n",
              "      <td>22.0</td>\n",
              "      <td>22</td>\n",
              "      <td>0.0</td>\n",
              "      <td>0</td>\n",
              "    </tr>\n",
              "    <tr>\n",
              "      <th>4</th>\n",
              "      <td>21.0</td>\n",
              "      <td>21</td>\n",
              "      <td>0.0</td>\n",
              "      <td>0</td>\n",
              "    </tr>\n",
              "    <tr>\n",
              "      <th>...</th>\n",
              "      <td>...</td>\n",
              "      <td>...</td>\n",
              "      <td>...</td>\n",
              "      <td>...</td>\n",
              "    </tr>\n",
              "    <tr>\n",
              "      <th>6995</th>\n",
              "      <td>NaN</td>\n",
              "      <td>0</td>\n",
              "      <td>NaN</td>\n",
              "      <td>50</td>\n",
              "    </tr>\n",
              "    <tr>\n",
              "      <th>6996</th>\n",
              "      <td>NaN</td>\n",
              "      <td>0</td>\n",
              "      <td>NaN</td>\n",
              "      <td>51</td>\n",
              "    </tr>\n",
              "    <tr>\n",
              "      <th>6997</th>\n",
              "      <td>NaN</td>\n",
              "      <td>0</td>\n",
              "      <td>NaN</td>\n",
              "      <td>51</td>\n",
              "    </tr>\n",
              "    <tr>\n",
              "      <th>6998</th>\n",
              "      <td>NaN</td>\n",
              "      <td>0</td>\n",
              "      <td>NaN</td>\n",
              "      <td>51</td>\n",
              "    </tr>\n",
              "    <tr>\n",
              "      <th>6999</th>\n",
              "      <td>NaN</td>\n",
              "      <td>0</td>\n",
              "      <td>NaN</td>\n",
              "      <td>49</td>\n",
              "    </tr>\n",
              "  </tbody>\n",
              "</table>\n",
              "<p>7000 rows × 4 columns</p>\n",
              "</div>\n",
              "      <button class=\"colab-df-convert\" onclick=\"convertToInteractive('df-8426cac9-264f-4095-af30-b5c36529cf75')\"\n",
              "              title=\"Convert this dataframe to an interactive table.\"\n",
              "              style=\"display:none;\">\n",
              "        \n",
              "  <svg xmlns=\"http://www.w3.org/2000/svg\" height=\"24px\"viewBox=\"0 0 24 24\"\n",
              "       width=\"24px\">\n",
              "    <path d=\"M0 0h24v24H0V0z\" fill=\"none\"/>\n",
              "    <path d=\"M18.56 5.44l.94 2.06.94-2.06 2.06-.94-2.06-.94-.94-2.06-.94 2.06-2.06.94zm-11 1L8.5 8.5l.94-2.06 2.06-.94-2.06-.94L8.5 2.5l-.94 2.06-2.06.94zm10 10l.94 2.06.94-2.06 2.06-.94-2.06-.94-.94-2.06-.94 2.06-2.06.94z\"/><path d=\"M17.41 7.96l-1.37-1.37c-.4-.4-.92-.59-1.43-.59-.52 0-1.04.2-1.43.59L10.3 9.45l-7.72 7.72c-.78.78-.78 2.05 0 2.83L4 21.41c.39.39.9.59 1.41.59.51 0 1.02-.2 1.41-.59l7.78-7.78 2.81-2.81c.8-.78.8-2.07 0-2.86zM5.41 20L4 18.59l7.72-7.72 1.47 1.35L5.41 20z\"/>\n",
              "  </svg>\n",
              "      </button>\n",
              "      \n",
              "  <style>\n",
              "    .colab-df-container {\n",
              "      display:flex;\n",
              "      flex-wrap:wrap;\n",
              "      gap: 12px;\n",
              "    }\n",
              "\n",
              "    .colab-df-convert {\n",
              "      background-color: #E8F0FE;\n",
              "      border: none;\n",
              "      border-radius: 50%;\n",
              "      cursor: pointer;\n",
              "      display: none;\n",
              "      fill: #1967D2;\n",
              "      height: 32px;\n",
              "      padding: 0 0 0 0;\n",
              "      width: 32px;\n",
              "    }\n",
              "\n",
              "    .colab-df-convert:hover {\n",
              "      background-color: #E2EBFA;\n",
              "      box-shadow: 0px 1px 2px rgba(60, 64, 67, 0.3), 0px 1px 3px 1px rgba(60, 64, 67, 0.15);\n",
              "      fill: #174EA6;\n",
              "    }\n",
              "\n",
              "    [theme=dark] .colab-df-convert {\n",
              "      background-color: #3B4455;\n",
              "      fill: #D2E3FC;\n",
              "    }\n",
              "\n",
              "    [theme=dark] .colab-df-convert:hover {\n",
              "      background-color: #434B5C;\n",
              "      box-shadow: 0px 1px 3px 1px rgba(0, 0, 0, 0.15);\n",
              "      filter: drop-shadow(0px 1px 2px rgba(0, 0, 0, 0.3));\n",
              "      fill: #FFFFFF;\n",
              "    }\n",
              "  </style>\n",
              "\n",
              "      <script>\n",
              "        const buttonEl =\n",
              "          document.querySelector('#df-8426cac9-264f-4095-af30-b5c36529cf75 button.colab-df-convert');\n",
              "        buttonEl.style.display =\n",
              "          google.colab.kernel.accessAllowed ? 'block' : 'none';\n",
              "\n",
              "        async function convertToInteractive(key) {\n",
              "          const element = document.querySelector('#df-8426cac9-264f-4095-af30-b5c36529cf75');\n",
              "          const dataTable =\n",
              "            await google.colab.kernel.invokeFunction('convertToInteractive',\n",
              "                                                     [key], {});\n",
              "          if (!dataTable) return;\n",
              "\n",
              "          const docLinkHtml = 'Like what you see? Visit the ' +\n",
              "            '<a target=\"_blank\" href=https://colab.research.google.com/notebooks/data_table.ipynb>data table notebook</a>'\n",
              "            + ' to learn more about interactive tables.';\n",
              "          element.innerHTML = '';\n",
              "          dataTable['output_type'] = 'display_data';\n",
              "          await google.colab.output.renderOutput(dataTable, element);\n",
              "          const docLink = document.createElement('div');\n",
              "          docLink.innerHTML = docLinkHtml;\n",
              "          element.appendChild(docLink);\n",
              "        }\n",
              "      </script>\n",
              "    </div>\n",
              "  </div>\n",
              "  "
            ],
            "text/plain": [
              "      total  c0   c1  c2\n",
              "0      27.0  27  0.0   0\n",
              "1      20.0  20  0.0   0\n",
              "2      20.0  20  0.0   0\n",
              "3      22.0  22  0.0   0\n",
              "4      21.0  21  0.0   0\n",
              "...     ...  ..  ...  ..\n",
              "6995    NaN   0  NaN  50\n",
              "6996    NaN   0  NaN  51\n",
              "6997    NaN   0  NaN  51\n",
              "6998    NaN   0  NaN  51\n",
              "6999    NaN   0  NaN  49\n",
              "\n",
              "[7000 rows x 4 columns]"
            ]
          },
          "metadata": {},
          "execution_count": 14
        },
        {
          "output_type": "display_data",
          "data": {
            "image/png": "[encoded data removed]",
            "text/plain": [
              "<Figure size 432x288 with 1 Axes>"
            ]
          },
          "metadata": {
            "needs_background": "light"
          }
        }
      ],
      "source": [
        "df = prepData()\n",
        "df"
      ]
    },
    {
      "cell_type": "markdown",
      "source": [
        "# Load Disaggregation\n",
        "Source: https://github.com/amzkit/load-disaggregation/blob/master/co_model.py\n",
        "Modified to be able to cater to the created dataset on v4 and v5."
      ],
      "metadata": {
        "id": "PZqDC_C3jlDj"
      }
    },
    {
      "cell_type": "code",
      "execution_count": null,
      "metadata": {
        "id": "Rsew63Bl4hn0"
      },
      "outputs": [],
      "source": [
        "def cluster(X, max_num_clusters = 4, exact_num_clusters = None):\n",
        "  data = _transform_data(X)\n",
        "\n",
        "  centroids = _apply_clustering(data, max_num_clusters, exact_num_clusters)\n",
        "  centroids = np.append(centroids, 0)\n",
        "  centroids = np.round(centroids).astype(np.int32)\n",
        "  centroids = np.unique(centroids)\n",
        "\n",
        "  return centroids"
      ]
    },
    {
      "cell_type": "code",
      "execution_count": null,
      "metadata": {
        "id": "4hAN3DSn5VHN"
      },
      "outputs": [],
      "source": [
        "def _transform_data(data):\n",
        "  MAX_NUMBER_OF_SAMPLES = 2000\n",
        "  MIN_NUMBER_OF_SAMPLES = 20\n",
        "  DATA_THRESHOLD = 1\n",
        "\n",
        "  data_above_thresh = data[data > DATA_THRESHOLD].dropna().values\n",
        "  print(data_above_thresh)\n",
        "  n_samples = len(data_above_thresh)\n",
        "  if n_samples < MIN_NUMBER_OF_SAMPLES:\n",
        "    return np.zeros((MAX_NUMBER_OF_SAMPLES, 1))\n",
        "  elif n_samples > MAX_NUMBER_OF_SAMPLES:\n",
        "    random_indices = np.random.randint(0, n_samples, MAX_NUMBER_OF_SAMPLES)\n",
        "    resampled = data_above_thresh[random_indices]\n",
        "    return resampled.reshape(MAX_NUMBER_OF_SAMPLES, 1)\n",
        "  else:\n",
        "    return data_above_thresh.reshape(n_samples, 1)"
      ]
    },
    {
      "cell_type": "code",
      "execution_count": null,
      "metadata": {
        "colab": {
          "base_uri": "https://localhost:8080/",
          "height": 206
        },
        "id": "BCDW3CiY6Q-R",
        "outputId": "7500f8ed-cce2-46ad-ff73-fb409bc15153"
      },
      "outputs": [
        {
          "output_type": "execute_result",
          "data": {
            "text/html": [
              "\n",
              "  <div id=\"df-31274b10-2708-4ed3-8e92-4f8a0a1eceb2\">\n",
              "    <div class=\"colab-df-container\">\n",
              "      <div>\n",
              "<style scoped>\n",
              "    .dataframe tbody tr th:only-of-type {\n",
              "        vertical-align: middle;\n",
              "    }\n",
              "\n",
              "    .dataframe tbody tr th {\n",
              "        vertical-align: top;\n",
              "    }\n",
              "\n",
              "    .dataframe thead th {\n",
              "        text-align: right;\n",
              "    }\n",
              "</style>\n",
              "<table border=\"1\" class=\"dataframe\">\n",
              "  <thead>\n",
              "    <tr style=\"text-align: right;\">\n",
              "      <th></th>\n",
              "      <th>total</th>\n",
              "    </tr>\n",
              "  </thead>\n",
              "  <tbody>\n",
              "    <tr>\n",
              "      <th>0</th>\n",
              "      <td>27.0</td>\n",
              "    </tr>\n",
              "    <tr>\n",
              "      <th>1</th>\n",
              "      <td>20.0</td>\n",
              "    </tr>\n",
              "    <tr>\n",
              "      <th>2</th>\n",
              "      <td>20.0</td>\n",
              "    </tr>\n",
              "    <tr>\n",
              "      <th>3</th>\n",
              "      <td>22.0</td>\n",
              "    </tr>\n",
              "    <tr>\n",
              "      <th>4</th>\n",
              "      <td>21.0</td>\n",
              "    </tr>\n",
              "  </tbody>\n",
              "</table>\n",
              "</div>\n",
              "      <button class=\"colab-df-convert\" onclick=\"convertToInteractive('df-31274b10-2708-4ed3-8e92-4f8a0a1eceb2')\"\n",
              "              title=\"Convert this dataframe to an interactive table.\"\n",
              "              style=\"display:none;\">\n",
              "        \n",
              "  <svg xmlns=\"http://www.w3.org/2000/svg\" height=\"24px\"viewBox=\"0 0 24 24\"\n",
              "       width=\"24px\">\n",
              "    <path d=\"M0 0h24v24H0V0z\" fill=\"none\"/>\n",
              "    <path d=\"M18.56 5.44l.94 2.06.94-2.06 2.06-.94-2.06-.94-.94-2.06-.94 2.06-2.06.94zm-11 1L8.5 8.5l.94-2.06 2.06-.94-2.06-.94L8.5 2.5l-.94 2.06-2.06.94zm10 10l.94 2.06.94-2.06 2.06-.94-2.06-.94-.94-2.06-.94 2.06-2.06.94z\"/><path d=\"M17.41 7.96l-1.37-1.37c-.4-.4-.92-.59-1.43-.59-.52 0-1.04.2-1.43.59L10.3 9.45l-7.72 7.72c-.78.78-.78 2.05 0 2.83L4 21.41c.39.39.9.59 1.41.59.51 0 1.02-.2 1.41-.59l7.78-7.78 2.81-2.81c.8-.78.8-2.07 0-2.86zM5.41 20L4 18.59l7.72-7.72 1.47 1.35L5.41 20z\"/>\n",
              "  </svg>\n",
              "      </button>\n",
              "      \n",
              "  <style>\n",
              "    .colab-df-container {\n",
              "      display:flex;\n",
              "      flex-wrap:wrap;\n",
              "      gap: 12px;\n",
              "    }\n",
              "\n",
              "    .colab-df-convert {\n",
              "      background-color: #E8F0FE;\n",
              "      border: none;\n",
              "      border-radius: 50%;\n",
              "      cursor: pointer;\n",
              "      display: none;\n",
              "      fill: #1967D2;\n",
              "      height: 32px;\n",
              "      padding: 0 0 0 0;\n",
              "      width: 32px;\n",
              "    }\n",
              "\n",
              "    .colab-df-convert:hover {\n",
              "      background-color: #E2EBFA;\n",
              "      box-shadow: 0px 1px 2px rgba(60, 64, 67, 0.3), 0px 1px 3px 1px rgba(60, 64, 67, 0.15);\n",
              "      fill: #174EA6;\n",
              "    }\n",
              "\n",
              "    [theme=dark] .colab-df-convert {\n",
              "      background-color: #3B4455;\n",
              "      fill: #D2E3FC;\n",
              "    }\n",
              "\n",
              "    [theme=dark] .colab-df-convert:hover {\n",
              "      background-color: #434B5C;\n",
              "      box-shadow: 0px 1px 3px 1px rgba(0, 0, 0, 0.15);\n",
              "      filter: drop-shadow(0px 1px 2px rgba(0, 0, 0, 0.3));\n",
              "      fill: #FFFFFF;\n",
              "    }\n",
              "  </style>\n",
              "\n",
              "      <script>\n",
              "        const buttonEl =\n",
              "          document.querySelector('#df-31274b10-2708-4ed3-8e92-4f8a0a1eceb2 button.colab-df-convert');\n",
              "        buttonEl.style.display =\n",
              "          google.colab.kernel.accessAllowed ? 'block' : 'none';\n",
              "\n",
              "        async function convertToInteractive(key) {\n",
              "          const element = document.querySelector('#df-31274b10-2708-4ed3-8e92-4f8a0a1eceb2');\n",
              "          const dataTable =\n",
              "            await google.colab.kernel.invokeFunction('convertToInteractive',\n",
              "                                                     [key], {});\n",
              "          if (!dataTable) return;\n",
              "\n",
              "          const docLinkHtml = 'Like what you see? Visit the ' +\n",
              "            '<a target=\"_blank\" href=https://colab.research.google.com/notebooks/data_table.ipynb>data table notebook</a>'\n",
              "            + ' to learn more about interactive tables.';\n",
              "          element.innerHTML = '';\n",
              "          dataTable['output_type'] = 'display_data';\n",
              "          await google.colab.output.renderOutput(dataTable, element);\n",
              "          const docLink = document.createElement('div');\n",
              "          docLink.innerHTML = docLinkHtml;\n",
              "          element.appendChild(docLink);\n",
              "        }\n",
              "      </script>\n",
              "    </div>\n",
              "  </div>\n",
              "  "
            ],
            "text/plain": [
              "   total\n",
              "0   27.0\n",
              "1   20.0\n",
              "2   20.0\n",
              "3   22.0\n",
              "4   21.0"
            ]
          },
          "metadata": {},
          "execution_count": 17
        }
      ],
      "source": [
        "#FUNCTIONALITY CHECK\n",
        "# df = labelData()\n",
        "data = pd.DataFrame(df, columns = [\"total\"])\n",
        "data.head()"
      ]
    },
    {
      "cell_type": "code",
      "execution_count": null,
      "metadata": {
        "colab": {
          "base_uri": "https://localhost:8080/"
        },
        "id": "eK9jAJfz6lZU",
        "outputId": "7b5d3f42-f459-4056-d75c-4bcf140c7cb8"
      },
      "outputs": [
        {
          "output_type": "stream",
          "name": "stdout",
          "text": [
            "[[ 27.]\n",
            " [ 20.]\n",
            " [ 20.]\n",
            " ...\n",
            " [172.]\n",
            " [173.]\n",
            " [173.]]\n"
          ]
        },
        {
          "output_type": "execute_result",
          "data": {
            "text/plain": [
              "array([[68.],\n",
              "       [69.],\n",
              "       [49.],\n",
              "       ...,\n",
              "       [66.],\n",
              "       [49.],\n",
              "       [61.]])"
            ]
          },
          "metadata": {},
          "execution_count": 18
        }
      ],
      "source": [
        "#FUNCTIONALITY CHECK\n",
        "td = _transform_data(data)\n",
        "td"
      ]
    },
    {
      "cell_type": "code",
      "execution_count": null,
      "metadata": {
        "id": "7kbVO2ja608o"
      },
      "outputs": [],
      "source": [
        "def _apply_clustering_n_clusters(X, n_clusters):\n",
        "  from sklearn.cluster import KMeans\n",
        "  k_means = KMeans(init = 'k-means++', n_clusters = n_clusters)\n",
        "  k_means.fit(X)\n",
        "  return k_means.labels_, k_means.cluster_centers_"
      ]
    },
    {
      "cell_type": "code",
      "execution_count": null,
      "metadata": {
        "id": "IgJYs4f27OIh"
      },
      "outputs": [],
      "source": [
        "def _apply_clustering(X, max_num_clusters, exact_num_clusters = None):\n",
        "  from sklearn import metrics\n",
        "  import warnings\n",
        "  warnings.filterwarnings(\"ignore\", category = DeprecationWarning)\n",
        "  \n",
        "  num_clus = -1 \n",
        "  sh = -1\n",
        "  k_means_labels = {}\n",
        "  k_means_cluster_centers = {}\n",
        "  k_means_labels_unique = {}\n",
        "\n",
        "  if exact_num_clusters is not None:\n",
        "    labels, centers = _apply_clustering_n_clusters(X, exact_num_clusters)\n",
        "    return centers.flatten()\n",
        "\n",
        "  for n_clusters in range(1, max_num_clusters):\n",
        "    try:\n",
        "      labels, centers = _apply_clustering_n_clusters(X, n_clusters)\n",
        "      k_means_labels[n_clusters] = labels\n",
        "      k_means_cluster_centers[n_clusters] = centers\n",
        "      k_means_labels_unique[n_clusters] = np.unique(labels)\n",
        "      try:\n",
        "        sh_n = metrics.silhouette_score(\n",
        "            X, k_means_labels[n_clusters], metric = 'euclidean')\n",
        "        \n",
        "        if sh_n > sh:\n",
        "          sh = sh_n\n",
        "          num_clus = n_clusters\n",
        "      except Exception:\n",
        "        num_clus = n_clusters\n",
        "    except Exception:\n",
        "      if num_clus > -1:\n",
        "        return k_means_cluster_centers[num_clus]  \n",
        "      else:\n",
        "        return np.array([0])\n",
        "\n",
        "  return k_means_cluster_centers[num_clus].flatten()"
      ]
    },
    {
      "cell_type": "code",
      "execution_count": null,
      "metadata": {
        "colab": {
          "base_uri": "https://localhost:8080/"
        },
        "id": "JImg8iB99dJ7",
        "outputId": "5205e271-7fc8-405f-8a9b-e70d95665409"
      },
      "outputs": [
        {
          "output_type": "stream",
          "name": "stdout",
          "text": [
            "[[ 27.]\n",
            " [ 20.]\n",
            " [ 20.]\n",
            " ...\n",
            " [172.]\n",
            " [173.]\n",
            " [173.]]\n",
            "[  0  14  57 151]\n"
          ]
        },
        {
          "output_type": "execute_result",
          "data": {
            "text/plain": [
              "4"
            ]
          },
          "metadata": {},
          "execution_count": 21
        }
      ],
      "source": [
        "#FUNCTIONALITY CHECK\n",
        "centroids = cluster(data)\n",
        "print(centroids)\n",
        "len(centroids)"
      ]
    },
    {
      "cell_type": "code",
      "execution_count": null,
      "metadata": {
        "id": "PSYZksdP-3Bd"
      },
      "outputs": [],
      "source": [
        "def find_nearest(known_array, test_array):\n",
        "  index_sorted = np.argsort(known_array)\n",
        "  known_array_sorted = known_array[index_sorted]\n",
        "\n",
        "  idx1 = np.searchsorted(known_array_sorted, test_array)\n",
        "  idx2 = np.clip(idx1 - 1, 0, len(known_array_sorted) - 1)\n",
        "  idx3 = np.clip(idx1,     0, len(known_array_sorted) - 1)\n",
        "\n",
        "  diff1 = known_array_sorted[idx3] - test_array\n",
        "  diff2 = test_array - known_array_sorted[idx2]\n",
        "\n",
        "  indices = index_sorted[np.where(diff1 <= diff2, idx3, idx2)]\n",
        "  residuals = test_array - known_array[indices]\n",
        "\n",
        "  return indices, residuals"
      ]
    },
    {
      "cell_type": "code",
      "execution_count": null,
      "metadata": {
        "id": "z0p7SZYyKrOv"
      },
      "outputs": [],
      "source": [
        "class CO():\n",
        "  def __init__(self, debug=False):\n",
        "    self.model = []\n",
        "    self.state_combinations = None\n",
        "    self.MIN_CHUNK_LENGTH = 50\n",
        "    self.MODEL_NAME = 'CO'\n",
        "    self.debug = debug\n",
        "    if self.debug : print(\"[CO Initialised]\")\n",
        "\n",
        "  def train(self, df, appliance_list):\n",
        "    if self.model:\n",
        "      raise RuntimeError(\"This implementation of Combinatorial Optimisation\"\n",
        "        \" does not support multiple calls to 'train\")\n",
        "      \n",
        "    max_num_clusters = 2\n",
        "\n",
        "    for i, meter in enumerate(appliance_list):\n",
        "      if self.debug : print(\" [train] Training model for submeter\", meter)\n",
        "      meter_data = df[meter]\n",
        "\n",
        "      num_on_states = None\n",
        "      self.train_on_chunk(meter_data, meter, max_num_clusters, num_on_states)\n",
        "\n",
        "  def train_on_chunk(self, chunk, meter, max_num_clusters, num_on_states):\n",
        "    meters_in_model = [d['training_metadata'] for d in self.model]\n",
        "    if meter in meters_in_model:\n",
        "      raise RuntimeError(\"Meter {} is already in model!\"\n",
        "        \" Can't train twice on the same meter!\".format(meter))\n",
        "    \n",
        "    states = cluster(chunk, max_num_clusters, num_on_states)\n",
        "    self.model.append({\n",
        "        'states': states,\n",
        "        'training_metadata': meter})\n",
        "    print(\" [train_on_chunk] Done training!\")\n",
        "\n",
        "  def disaggregate(self, df):\n",
        "    if not 'total' in df:\n",
        "      print(\"[CO_model][disaggregate] Could not detect column \\\"total\\\" in the given dataframe\")\n",
        "      return\n",
        "    \n",
        "    mains = df['total']\n",
        "\n",
        "    if not self.model:\n",
        "      raise RuntimeError(\"The model needs to be instantiated before\"\n",
        "        \" calling `disaggregate`. The model\"\n",
        "        \" can be instantiated by calling `train`.\")\n",
        "    \n",
        "    if len(mains) < self.MIN_CHUNK_LENGTH:\n",
        "      raise RuntimeError(\"Chunk is too short.\")\n",
        "\n",
        "    import warnings\n",
        "    warnings.filterwarnings(\"ignore\", category = DeprecationWarning)\n",
        "\n",
        "    self._set_state_combinations_if_necessary()\n",
        "\n",
        "    state_combinations = self.state_combinations\n",
        "    print(\"state combinations:\")\n",
        "    print(state_combinations)\n",
        "\n",
        "    summed_power_of_each_combinations = np.sum(state_combinations, axis = 1)\n",
        "\n",
        "    indices_of_state_combinations, residual_power = find_nearest(\n",
        "        summed_power_of_each_combinations, mains)\n",
        "    \n",
        "    appliance_powers_dict = {}\n",
        "    for i, model in enumerate(self.model):\n",
        "      print(\"Estimating power demand for '{}'\"\n",
        "        .format(model['training_metadata']))\n",
        "      predicted_power = state_combinations[indices_of_state_combinations, i].flatten()\n",
        "      column = pd.Series(predicted_power, index = mains.index, name = i)\n",
        "      appliance_powers_dict[self.model[i]['training_metadata']] = column\n",
        "    \n",
        "    appliance_powers = pd.DataFrame(appliance_powers_dict, dtype='float32')\n",
        "    appliance_powers_dict = pd.to_datetime(df['total'], unit = 's')\n",
        "\n",
        "    return appliance_powers\n",
        "\n",
        "  def _set_state_combinations_if_necessary(self):\n",
        "    if(self.state_combinations is None or self.state_combinations.shape[1] != len(self.model)):\n",
        "      from sklearn.utils.extmath import cartesian\n",
        "      centroids = [model['states'] for model in self.model]\n",
        "      self.state_combinations = cartesian(centroids)\n",
        "\n",
        "  def save(self, filename):\n",
        "    with open(filename+'.pkl', 'wb') as output:\n",
        "        pickle.dump(self.model, output, pickle.HIGHEST_PROTOCOL)\n",
        "        pickle.dump(self.state_combinations, output, pickle.HIGHEST_PROTOCOL)\n",
        "            \n",
        "  def load(self, filename):\n",
        "    with open(filename+'.pkl', 'rb') as input:\n",
        "        self.model = pickle.load(input)\n",
        "        self.state_combinations = pickle.load(input)"
      ]
    },
    {
      "cell_type": "markdown",
      "source": [
        "Separate data to test and train sets."
      ],
      "metadata": {
        "id": "Ob9p7uvjju6-"
      }
    },
    {
      "cell_type": "code",
      "execution_count": null,
      "metadata": {
        "id": "ZjNpqYVAR16b"
      },
      "outputs": [],
      "source": [
        "def separate_data():\n",
        "  df = prepData()\n",
        "  \n",
        "  #label data\n",
        "  df['label'] = ''\n",
        "  for i, row in df.iterrows():\n",
        "    label_str = ''\n",
        "    if row.c0 != 0:\n",
        "      label_str = \"c0\"\n",
        "    if row.c1 != 0:\n",
        "      label_str = label_str + \"c1\"\n",
        "    if row.c2 != 0:\n",
        "      label_str = label_str + \"c2\"\n",
        "    df.label[i] = label_str\n",
        "\n",
        "  #separate train and test set by 80-20\n",
        "  y = pd.DataFrame(df, columns = ['label'])\n",
        "  x = pd.DataFrame(df, columns = ['total', 'c0', 'c1', 'c2', 'label'])\n",
        "  # print(y)\n",
        "  # print(x)\n",
        "\n",
        "  x_train, x_test, y_train, y_test = train_test_split(x, y, test_size = 0.2)\n",
        "  # x_train \n",
        "  return x_train, x_test"
      ]
    },
    {
      "cell_type": "code",
      "execution_count": null,
      "metadata": {
        "id": "gEQR911ETfgn",
        "colab": {
          "base_uri": "https://localhost:8080/",
          "height": 501
        },
        "outputId": "4aaed090-93a9-456e-f20e-41c081ba7301"
      },
      "outputs": [
        {
          "output_type": "stream",
          "name": "stderr",
          "text": [
            "/usr/local/lib/python3.7/dist-packages/ipykernel_launcher.py:19: ConvergenceWarning: Number of distinct clusters (44) found smaller than n_clusters (45). Possibly due to duplicate points in X.\n",
            "/usr/local/lib/python3.7/dist-packages/ipykernel_launcher.py:19: ConvergenceWarning: Number of distinct clusters (44) found smaller than n_clusters (46). Possibly due to duplicate points in X.\n",
            "/usr/local/lib/python3.7/dist-packages/ipykernel_launcher.py:19: ConvergenceWarning: Number of distinct clusters (44) found smaller than n_clusters (47). Possibly due to duplicate points in X.\n",
            "/usr/local/lib/python3.7/dist-packages/ipykernel_launcher.py:19: ConvergenceWarning: Number of distinct clusters (44) found smaller than n_clusters (48). Possibly due to duplicate points in X.\n",
            "/usr/local/lib/python3.7/dist-packages/ipykernel_launcher.py:19: ConvergenceWarning: Number of distinct clusters (44) found smaller than n_clusters (49). Possibly due to duplicate points in X.\n",
            "/usr/local/lib/python3.7/dist-packages/ipykernel_launcher.py:14: SettingWithCopyWarning: \n",
            "A value is trying to be set on a copy of a slice from a DataFrame\n",
            "\n",
            "See the caveats in the documentation: https://pandas.pydata.org/pandas-docs/stable/user_guide/indexing.html#returning-a-view-versus-a-copy\n",
            "  \n"
          ]
        },
        {
          "output_type": "stream",
          "name": "stdout",
          "text": [
            "3\n"
          ]
        },
        {
          "output_type": "display_data",
          "data": {
            "image/png": "[encoded data removed]",
            "text/plain": [
              "<Figure size 432x288 with 1 Axes>"
            ]
          },
          "metadata": {
            "needs_background": "light"
          }
        }
      ],
      "source": [
        "x_train, x_test = separate_data()"
      ]
    },
    {
      "cell_type": "code",
      "execution_count": null,
      "metadata": {
        "colab": {
          "base_uri": "https://localhost:8080/",
          "height": 424
        },
        "id": "yQv2kzXhT9A2",
        "outputId": "f619c0ae-780d-4373-870c-f5fc114e06f1"
      },
      "outputs": [
        {
          "output_type": "execute_result",
          "data": {
            "text/html": [
              "\n",
              "  <div id=\"df-268753c5-2e58-4303-a31d-0185b3a4b43e\">\n",
              "    <div class=\"colab-df-container\">\n",
              "      <div>\n",
              "<style scoped>\n",
              "    .dataframe tbody tr th:only-of-type {\n",
              "        vertical-align: middle;\n",
              "    }\n",
              "\n",
              "    .dataframe tbody tr th {\n",
              "        vertical-align: top;\n",
              "    }\n",
              "\n",
              "    .dataframe thead th {\n",
              "        text-align: right;\n",
              "    }\n",
              "</style>\n",
              "<table border=\"1\" class=\"dataframe\">\n",
              "  <thead>\n",
              "    <tr style=\"text-align: right;\">\n",
              "      <th></th>\n",
              "      <th>total</th>\n",
              "      <th>c0</th>\n",
              "      <th>c1</th>\n",
              "      <th>c2</th>\n",
              "    </tr>\n",
              "  </thead>\n",
              "  <tbody>\n",
              "    <tr>\n",
              "      <th>5681</th>\n",
              "      <td>NaN</td>\n",
              "      <td>0</td>\n",
              "      <td>51</td>\n",
              "      <td>NaN</td>\n",
              "    </tr>\n",
              "    <tr>\n",
              "      <th>641</th>\n",
              "      <td>20.0</td>\n",
              "      <td>20</td>\n",
              "      <td>0</td>\n",
              "      <td>0.0</td>\n",
              "    </tr>\n",
              "    <tr>\n",
              "      <th>1140</th>\n",
              "      <td>51.0</td>\n",
              "      <td>0</td>\n",
              "      <td>51</td>\n",
              "      <td>0.0</td>\n",
              "    </tr>\n",
              "    <tr>\n",
              "      <th>2314</th>\n",
              "      <td>NaN</td>\n",
              "      <td>0</td>\n",
              "      <td>0</td>\n",
              "      <td>NaN</td>\n",
              "    </tr>\n",
              "    <tr>\n",
              "      <th>5239</th>\n",
              "      <td>NaN</td>\n",
              "      <td>0</td>\n",
              "      <td>53</td>\n",
              "      <td>NaN</td>\n",
              "    </tr>\n",
              "    <tr>\n",
              "      <th>...</th>\n",
              "      <td>...</td>\n",
              "      <td>...</td>\n",
              "      <td>...</td>\n",
              "      <td>...</td>\n",
              "    </tr>\n",
              "    <tr>\n",
              "      <th>3775</th>\n",
              "      <td>60.0</td>\n",
              "      <td>8</td>\n",
              "      <td>52</td>\n",
              "      <td>0.0</td>\n",
              "    </tr>\n",
              "    <tr>\n",
              "      <th>571</th>\n",
              "      <td>16.0</td>\n",
              "      <td>16</td>\n",
              "      <td>0</td>\n",
              "      <td>0.0</td>\n",
              "    </tr>\n",
              "    <tr>\n",
              "      <th>6000</th>\n",
              "      <td>176.0</td>\n",
              "      <td>0</td>\n",
              "      <td>51</td>\n",
              "      <td>125.0</td>\n",
              "    </tr>\n",
              "    <tr>\n",
              "      <th>6934</th>\n",
              "      <td>NaN</td>\n",
              "      <td>0</td>\n",
              "      <td>50</td>\n",
              "      <td>NaN</td>\n",
              "    </tr>\n",
              "    <tr>\n",
              "      <th>4084</th>\n",
              "      <td>NaN</td>\n",
              "      <td>19</td>\n",
              "      <td>0</td>\n",
              "      <td>NaN</td>\n",
              "    </tr>\n",
              "  </tbody>\n",
              "</table>\n",
              "<p>5600 rows × 4 columns</p>\n",
              "</div>\n",
              "      <button class=\"colab-df-convert\" onclick=\"convertToInteractive('df-268753c5-2e58-4303-a31d-0185b3a4b43e')\"\n",
              "              title=\"Convert this dataframe to an interactive table.\"\n",
              "              style=\"display:none;\">\n",
              "        \n",
              "  <svg xmlns=\"http://www.w3.org/2000/svg\" height=\"24px\"viewBox=\"0 0 24 24\"\n",
              "       width=\"24px\">\n",
              "    <path d=\"M0 0h24v24H0V0z\" fill=\"none\"/>\n",
              "    <path d=\"M18.56 5.44l.94 2.06.94-2.06 2.06-.94-2.06-.94-.94-2.06-.94 2.06-2.06.94zm-11 1L8.5 8.5l.94-2.06 2.06-.94-2.06-.94L8.5 2.5l-.94 2.06-2.06.94zm10 10l.94 2.06.94-2.06 2.06-.94-2.06-.94-.94-2.06-.94 2.06-2.06.94z\"/><path d=\"M17.41 7.96l-1.37-1.37c-.4-.4-.92-.59-1.43-.59-.52 0-1.04.2-1.43.59L10.3 9.45l-7.72 7.72c-.78.78-.78 2.05 0 2.83L4 21.41c.39.39.9.59 1.41.59.51 0 1.02-.2 1.41-.59l7.78-7.78 2.81-2.81c.8-.78.8-2.07 0-2.86zM5.41 20L4 18.59l7.72-7.72 1.47 1.35L5.41 20z\"/>\n",
              "  </svg>\n",
              "      </button>\n",
              "      \n",
              "  <style>\n",
              "    .colab-df-container {\n",
              "      display:flex;\n",
              "      flex-wrap:wrap;\n",
              "      gap: 12px;\n",
              "    }\n",
              "\n",
              "    .colab-df-convert {\n",
              "      background-color: #E8F0FE;\n",
              "      border: none;\n",
              "      border-radius: 50%;\n",
              "      cursor: pointer;\n",
              "      display: none;\n",
              "      fill: #1967D2;\n",
              "      height: 32px;\n",
              "      padding: 0 0 0 0;\n",
              "      width: 32px;\n",
              "    }\n",
              "\n",
              "    .colab-df-convert:hover {\n",
              "      background-color: #E2EBFA;\n",
              "      box-shadow: 0px 1px 2px rgba(60, 64, 67, 0.3), 0px 1px 3px 1px rgba(60, 64, 67, 0.15);\n",
              "      fill: #174EA6;\n",
              "    }\n",
              "\n",
              "    [theme=dark] .colab-df-convert {\n",
              "      background-color: #3B4455;\n",
              "      fill: #D2E3FC;\n",
              "    }\n",
              "\n",
              "    [theme=dark] .colab-df-convert:hover {\n",
              "      background-color: #434B5C;\n",
              "      box-shadow: 0px 1px 3px 1px rgba(0, 0, 0, 0.15);\n",
              "      filter: drop-shadow(0px 1px 2px rgba(0, 0, 0, 0.3));\n",
              "      fill: #FFFFFF;\n",
              "    }\n",
              "  </style>\n",
              "\n",
              "      <script>\n",
              "        const buttonEl =\n",
              "          document.querySelector('#df-268753c5-2e58-4303-a31d-0185b3a4b43e button.colab-df-convert');\n",
              "        buttonEl.style.display =\n",
              "          google.colab.kernel.accessAllowed ? 'block' : 'none';\n",
              "\n",
              "        async function convertToInteractive(key) {\n",
              "          const element = document.querySelector('#df-268753c5-2e58-4303-a31d-0185b3a4b43e');\n",
              "          const dataTable =\n",
              "            await google.colab.kernel.invokeFunction('convertToInteractive',\n",
              "                                                     [key], {});\n",
              "          if (!dataTable) return;\n",
              "\n",
              "          const docLinkHtml = 'Like what you see? Visit the ' +\n",
              "            '<a target=\"_blank\" href=https://colab.research.google.com/notebooks/data_table.ipynb>data table notebook</a>'\n",
              "            + ' to learn more about interactive tables.';\n",
              "          element.innerHTML = '';\n",
              "          dataTable['output_type'] = 'display_data';\n",
              "          await google.colab.output.renderOutput(dataTable, element);\n",
              "          const docLink = document.createElement('div');\n",
              "          docLink.innerHTML = docLinkHtml;\n",
              "          element.appendChild(docLink);\n",
              "        }\n",
              "      </script>\n",
              "    </div>\n",
              "  </div>\n",
              "  "
            ],
            "text/plain": [
              "      total  c0  c1     c2\n",
              "5681    NaN   0  51    NaN\n",
              "641    20.0  20   0    0.0\n",
              "1140   51.0   0  51    0.0\n",
              "2314    NaN   0   0    NaN\n",
              "5239    NaN   0  53    NaN\n",
              "...     ...  ..  ..    ...\n",
              "3775   60.0   8  52    0.0\n",
              "571    16.0  16   0    0.0\n",
              "6000  176.0   0  51  125.0\n",
              "6934    NaN   0  50    NaN\n",
              "4084    NaN  19   0    NaN\n",
              "\n",
              "[5600 rows x 4 columns]"
            ]
          },
          "metadata": {},
          "execution_count": 26
        }
      ],
      "source": [
        "x_train = pd.DataFrame(x_train, columns = ['total', 'c0', 'c1', 'c2'])\n",
        "x_train"
      ]
    },
    {
      "cell_type": "code",
      "execution_count": null,
      "metadata": {
        "colab": {
          "base_uri": "https://localhost:8080/",
          "height": 424
        },
        "id": "ecKecyTmAbcn",
        "outputId": "ebc7ff4b-af73-41b7-834c-d4f6eee358e5"
      },
      "outputs": [
        {
          "output_type": "execute_result",
          "data": {
            "text/html": [
              "\n",
              "  <div id=\"df-3e09bae0-267a-4840-b680-d3bc259a8a8a\">\n",
              "    <div class=\"colab-df-container\">\n",
              "      <div>\n",
              "<style scoped>\n",
              "    .dataframe tbody tr th:only-of-type {\n",
              "        vertical-align: middle;\n",
              "    }\n",
              "\n",
              "    .dataframe tbody tr th {\n",
              "        vertical-align: top;\n",
              "    }\n",
              "\n",
              "    .dataframe thead th {\n",
              "        text-align: right;\n",
              "    }\n",
              "</style>\n",
              "<table border=\"1\" class=\"dataframe\">\n",
              "  <thead>\n",
              "    <tr style=\"text-align: right;\">\n",
              "      <th></th>\n",
              "      <th>total</th>\n",
              "      <th>c0</th>\n",
              "      <th>c1</th>\n",
              "      <th>c2</th>\n",
              "      <th>label</th>\n",
              "    </tr>\n",
              "  </thead>\n",
              "  <tbody>\n",
              "    <tr>\n",
              "      <th>1353</th>\n",
              "      <td>50.0</td>\n",
              "      <td>0</td>\n",
              "      <td>50</td>\n",
              "      <td>0.0</td>\n",
              "      <td>c1</td>\n",
              "    </tr>\n",
              "    <tr>\n",
              "      <th>4952</th>\n",
              "      <td>NaN</td>\n",
              "      <td>11</td>\n",
              "      <td>0</td>\n",
              "      <td>NaN</td>\n",
              "      <td>c0c2</td>\n",
              "    </tr>\n",
              "    <tr>\n",
              "      <th>1772</th>\n",
              "      <td>51.0</td>\n",
              "      <td>0</td>\n",
              "      <td>51</td>\n",
              "      <td>0.0</td>\n",
              "      <td>c1</td>\n",
              "    </tr>\n",
              "    <tr>\n",
              "      <th>779</th>\n",
              "      <td>8.0</td>\n",
              "      <td>8</td>\n",
              "      <td>0</td>\n",
              "      <td>0.0</td>\n",
              "      <td>c0</td>\n",
              "    </tr>\n",
              "    <tr>\n",
              "      <th>618</th>\n",
              "      <td>15.0</td>\n",
              "      <td>15</td>\n",
              "      <td>0</td>\n",
              "      <td>0.0</td>\n",
              "      <td>c0</td>\n",
              "    </tr>\n",
              "    <tr>\n",
              "      <th>...</th>\n",
              "      <td>...</td>\n",
              "      <td>...</td>\n",
              "      <td>...</td>\n",
              "      <td>...</td>\n",
              "      <td>...</td>\n",
              "    </tr>\n",
              "    <tr>\n",
              "      <th>3277</th>\n",
              "      <td>76.0</td>\n",
              "      <td>24</td>\n",
              "      <td>52</td>\n",
              "      <td>0.0</td>\n",
              "      <td>c0c1</td>\n",
              "    </tr>\n",
              "    <tr>\n",
              "      <th>3935</th>\n",
              "      <td>57.0</td>\n",
              "      <td>7</td>\n",
              "      <td>50</td>\n",
              "      <td>0.0</td>\n",
              "      <td>c0c1</td>\n",
              "    </tr>\n",
              "    <tr>\n",
              "      <th>4004</th>\n",
              "      <td>146.0</td>\n",
              "      <td>21</td>\n",
              "      <td>0</td>\n",
              "      <td>125.0</td>\n",
              "      <td>c0c2</td>\n",
              "    </tr>\n",
              "    <tr>\n",
              "      <th>930</th>\n",
              "      <td>7.0</td>\n",
              "      <td>7</td>\n",
              "      <td>0</td>\n",
              "      <td>0.0</td>\n",
              "      <td>c0</td>\n",
              "    </tr>\n",
              "    <tr>\n",
              "      <th>3669</th>\n",
              "      <td>77.0</td>\n",
              "      <td>25</td>\n",
              "      <td>52</td>\n",
              "      <td>0.0</td>\n",
              "      <td>c0c1</td>\n",
              "    </tr>\n",
              "  </tbody>\n",
              "</table>\n",
              "<p>61 rows × 5 columns</p>\n",
              "</div>\n",
              "      <button class=\"colab-df-convert\" onclick=\"convertToInteractive('df-3e09bae0-267a-4840-b680-d3bc259a8a8a')\"\n",
              "              title=\"Convert this dataframe to an interactive table.\"\n",
              "              style=\"display:none;\">\n",
              "        \n",
              "  <svg xmlns=\"http://www.w3.org/2000/svg\" height=\"24px\"viewBox=\"0 0 24 24\"\n",
              "       width=\"24px\">\n",
              "    <path d=\"M0 0h24v24H0V0z\" fill=\"none\"/>\n",
              "    <path d=\"M18.56 5.44l.94 2.06.94-2.06 2.06-.94-2.06-.94-.94-2.06-.94 2.06-2.06.94zm-11 1L8.5 8.5l.94-2.06 2.06-.94-2.06-.94L8.5 2.5l-.94 2.06-2.06.94zm10 10l.94 2.06.94-2.06 2.06-.94-2.06-.94-.94-2.06-.94 2.06-2.06.94z\"/><path d=\"M17.41 7.96l-1.37-1.37c-.4-.4-.92-.59-1.43-.59-.52 0-1.04.2-1.43.59L10.3 9.45l-7.72 7.72c-.78.78-.78 2.05 0 2.83L4 21.41c.39.39.9.59 1.41.59.51 0 1.02-.2 1.41-.59l7.78-7.78 2.81-2.81c.8-.78.8-2.07 0-2.86zM5.41 20L4 18.59l7.72-7.72 1.47 1.35L5.41 20z\"/>\n",
              "  </svg>\n",
              "      </button>\n",
              "      \n",
              "  <style>\n",
              "    .colab-df-container {\n",
              "      display:flex;\n",
              "      flex-wrap:wrap;\n",
              "      gap: 12px;\n",
              "    }\n",
              "\n",
              "    .colab-df-convert {\n",
              "      background-color: #E8F0FE;\n",
              "      border: none;\n",
              "      border-radius: 50%;\n",
              "      cursor: pointer;\n",
              "      display: none;\n",
              "      fill: #1967D2;\n",
              "      height: 32px;\n",
              "      padding: 0 0 0 0;\n",
              "      width: 32px;\n",
              "    }\n",
              "\n",
              "    .colab-df-convert:hover {\n",
              "      background-color: #E2EBFA;\n",
              "      box-shadow: 0px 1px 2px rgba(60, 64, 67, 0.3), 0px 1px 3px 1px rgba(60, 64, 67, 0.15);\n",
              "      fill: #174EA6;\n",
              "    }\n",
              "\n",
              "    [theme=dark] .colab-df-convert {\n",
              "      background-color: #3B4455;\n",
              "      fill: #D2E3FC;\n",
              "    }\n",
              "\n",
              "    [theme=dark] .colab-df-convert:hover {\n",
              "      background-color: #434B5C;\n",
              "      box-shadow: 0px 1px 3px 1px rgba(0, 0, 0, 0.15);\n",
              "      filter: drop-shadow(0px 1px 2px rgba(0, 0, 0, 0.3));\n",
              "      fill: #FFFFFF;\n",
              "    }\n",
              "  </style>\n",
              "\n",
              "      <script>\n",
              "        const buttonEl =\n",
              "          document.querySelector('#df-3e09bae0-267a-4840-b680-d3bc259a8a8a button.colab-df-convert');\n",
              "        buttonEl.style.display =\n",
              "          google.colab.kernel.accessAllowed ? 'block' : 'none';\n",
              "\n",
              "        async function convertToInteractive(key) {\n",
              "          const element = document.querySelector('#df-3e09bae0-267a-4840-b680-d3bc259a8a8a');\n",
              "          const dataTable =\n",
              "            await google.colab.kernel.invokeFunction('convertToInteractive',\n",
              "                                                     [key], {});\n",
              "          if (!dataTable) return;\n",
              "\n",
              "          const docLinkHtml = 'Like what you see? Visit the ' +\n",
              "            '<a target=\"_blank\" href=https://colab.research.google.com/notebooks/data_table.ipynb>data table notebook</a>'\n",
              "            + ' to learn more about interactive tables.';\n",
              "          element.innerHTML = '';\n",
              "          dataTable['output_type'] = 'display_data';\n",
              "          await google.colab.output.renderOutput(dataTable, element);\n",
              "          const docLink = document.createElement('div');\n",
              "          docLink.innerHTML = docLinkHtml;\n",
              "          element.appendChild(docLink);\n",
              "        }\n",
              "      </script>\n",
              "    </div>\n",
              "  </div>\n",
              "  "
            ],
            "text/plain": [
              "      total  c0  c1     c2 label\n",
              "1353   50.0   0  50    0.0    c1\n",
              "4952    NaN  11   0    NaN  c0c2\n",
              "1772   51.0   0  51    0.0    c1\n",
              "779     8.0   8   0    0.0    c0\n",
              "618    15.0  15   0    0.0    c0\n",
              "...     ...  ..  ..    ...   ...\n",
              "3277   76.0  24  52    0.0  c0c1\n",
              "3935   57.0   7  50    0.0  c0c1\n",
              "4004  146.0  21   0  125.0  c0c2\n",
              "930     7.0   7   0    0.0    c0\n",
              "3669   77.0  25  52    0.0  c0c1\n",
              "\n",
              "[61 rows x 5 columns]"
            ]
          },
          "metadata": {},
          "execution_count": 27
        }
      ],
      "source": [
        "x_test_unique_total = x_test.drop_duplicates(subset = 'total') \n",
        "x_test_unique_total"
      ]
    },
    {
      "cell_type": "code",
      "execution_count": null,
      "metadata": {
        "colab": {
          "base_uri": "https://localhost:8080/",
          "height": 363
        },
        "id": "XKGp70e0T_k6",
        "outputId": "a60fdc86-5b3f-454b-b94d-34805357521c"
      },
      "outputs": [
        {
          "output_type": "execute_result",
          "data": {
            "text/html": [
              "\n",
              "  <div id=\"df-e116b4e4-20fa-4e3f-8a9c-ce1a3e1894d1\">\n",
              "    <div class=\"colab-df-container\">\n",
              "      <div>\n",
              "<style scoped>\n",
              "    .dataframe tbody tr th:only-of-type {\n",
              "        vertical-align: middle;\n",
              "    }\n",
              "\n",
              "    .dataframe tbody tr th {\n",
              "        vertical-align: top;\n",
              "    }\n",
              "\n",
              "    .dataframe thead th {\n",
              "        text-align: right;\n",
              "    }\n",
              "</style>\n",
              "<table border=\"1\" class=\"dataframe\">\n",
              "  <thead>\n",
              "    <tr style=\"text-align: right;\">\n",
              "      <th></th>\n",
              "      <th>index</th>\n",
              "      <th>total</th>\n",
              "    </tr>\n",
              "  </thead>\n",
              "  <tbody>\n",
              "    <tr>\n",
              "      <th>0</th>\n",
              "      <td>1353</td>\n",
              "      <td>50.0</td>\n",
              "    </tr>\n",
              "    <tr>\n",
              "      <th>1</th>\n",
              "      <td>4952</td>\n",
              "      <td>NaN</td>\n",
              "    </tr>\n",
              "    <tr>\n",
              "      <th>2</th>\n",
              "      <td>1772</td>\n",
              "      <td>51.0</td>\n",
              "    </tr>\n",
              "    <tr>\n",
              "      <th>3</th>\n",
              "      <td>779</td>\n",
              "      <td>8.0</td>\n",
              "    </tr>\n",
              "    <tr>\n",
              "      <th>4</th>\n",
              "      <td>618</td>\n",
              "      <td>15.0</td>\n",
              "    </tr>\n",
              "    <tr>\n",
              "      <th>5</th>\n",
              "      <td>1157</td>\n",
              "      <td>52.0</td>\n",
              "    </tr>\n",
              "    <tr>\n",
              "      <th>6</th>\n",
              "      <td>290</td>\n",
              "      <td>22.0</td>\n",
              "    </tr>\n",
              "    <tr>\n",
              "      <th>7</th>\n",
              "      <td>221</td>\n",
              "      <td>10.0</td>\n",
              "    </tr>\n",
              "    <tr>\n",
              "      <th>8</th>\n",
              "      <td>703</td>\n",
              "      <td>14.0</td>\n",
              "    </tr>\n",
              "    <tr>\n",
              "      <th>9</th>\n",
              "      <td>3092</td>\n",
              "      <td>68.0</td>\n",
              "    </tr>\n",
              "  </tbody>\n",
              "</table>\n",
              "</div>\n",
              "      <button class=\"colab-df-convert\" onclick=\"convertToInteractive('df-e116b4e4-20fa-4e3f-8a9c-ce1a3e1894d1')\"\n",
              "              title=\"Convert this dataframe to an interactive table.\"\n",
              "              style=\"display:none;\">\n",
              "        \n",
              "  <svg xmlns=\"http://www.w3.org/2000/svg\" height=\"24px\"viewBox=\"0 0 24 24\"\n",
              "       width=\"24px\">\n",
              "    <path d=\"M0 0h24v24H0V0z\" fill=\"none\"/>\n",
              "    <path d=\"M18.56 5.44l.94 2.06.94-2.06 2.06-.94-2.06-.94-.94-2.06-.94 2.06-2.06.94zm-11 1L8.5 8.5l.94-2.06 2.06-.94-2.06-.94L8.5 2.5l-.94 2.06-2.06.94zm10 10l.94 2.06.94-2.06 2.06-.94-2.06-.94-.94-2.06-.94 2.06-2.06.94z\"/><path d=\"M17.41 7.96l-1.37-1.37c-.4-.4-.92-.59-1.43-.59-.52 0-1.04.2-1.43.59L10.3 9.45l-7.72 7.72c-.78.78-.78 2.05 0 2.83L4 21.41c.39.39.9.59 1.41.59.51 0 1.02-.2 1.41-.59l7.78-7.78 2.81-2.81c.8-.78.8-2.07 0-2.86zM5.41 20L4 18.59l7.72-7.72 1.47 1.35L5.41 20z\"/>\n",
              "  </svg>\n",
              "      </button>\n",
              "      \n",
              "  <style>\n",
              "    .colab-df-container {\n",
              "      display:flex;\n",
              "      flex-wrap:wrap;\n",
              "      gap: 12px;\n",
              "    }\n",
              "\n",
              "    .colab-df-convert {\n",
              "      background-color: #E8F0FE;\n",
              "      border: none;\n",
              "      border-radius: 50%;\n",
              "      cursor: pointer;\n",
              "      display: none;\n",
              "      fill: #1967D2;\n",
              "      height: 32px;\n",
              "      padding: 0 0 0 0;\n",
              "      width: 32px;\n",
              "    }\n",
              "\n",
              "    .colab-df-convert:hover {\n",
              "      background-color: #E2EBFA;\n",
              "      box-shadow: 0px 1px 2px rgba(60, 64, 67, 0.3), 0px 1px 3px 1px rgba(60, 64, 67, 0.15);\n",
              "      fill: #174EA6;\n",
              "    }\n",
              "\n",
              "    [theme=dark] .colab-df-convert {\n",
              "      background-color: #3B4455;\n",
              "      fill: #D2E3FC;\n",
              "    }\n",
              "\n",
              "    [theme=dark] .colab-df-convert:hover {\n",
              "      background-color: #434B5C;\n",
              "      box-shadow: 0px 1px 3px 1px rgba(0, 0, 0, 0.15);\n",
              "      filter: drop-shadow(0px 1px 2px rgba(0, 0, 0, 0.3));\n",
              "      fill: #FFFFFF;\n",
              "    }\n",
              "  </style>\n",
              "\n",
              "      <script>\n",
              "        const buttonEl =\n",
              "          document.querySelector('#df-e116b4e4-20fa-4e3f-8a9c-ce1a3e1894d1 button.colab-df-convert');\n",
              "        buttonEl.style.display =\n",
              "          google.colab.kernel.accessAllowed ? 'block' : 'none';\n",
              "\n",
              "        async function convertToInteractive(key) {\n",
              "          const element = document.querySelector('#df-e116b4e4-20fa-4e3f-8a9c-ce1a3e1894d1');\n",
              "          const dataTable =\n",
              "            await google.colab.kernel.invokeFunction('convertToInteractive',\n",
              "                                                     [key], {});\n",
              "          if (!dataTable) return;\n",
              "\n",
              "          const docLinkHtml = 'Like what you see? Visit the ' +\n",
              "            '<a target=\"_blank\" href=https://colab.research.google.com/notebooks/data_table.ipynb>data table notebook</a>'\n",
              "            + ' to learn more about interactive tables.';\n",
              "          element.innerHTML = '';\n",
              "          dataTable['output_type'] = 'display_data';\n",
              "          await google.colab.output.renderOutput(dataTable, element);\n",
              "          const docLink = document.createElement('div');\n",
              "          docLink.innerHTML = docLinkHtml;\n",
              "          element.appendChild(docLink);\n",
              "        }\n",
              "      </script>\n",
              "    </div>\n",
              "  </div>\n",
              "  "
            ],
            "text/plain": [
              "   index  total\n",
              "0   1353   50.0\n",
              "1   4952    NaN\n",
              "2   1772   51.0\n",
              "3    779    8.0\n",
              "4    618   15.0\n",
              "5   1157   52.0\n",
              "6    290   22.0\n",
              "7    221   10.0\n",
              "8    703   14.0\n",
              "9   3092   68.0"
            ]
          },
          "metadata": {},
          "execution_count": 28
        }
      ],
      "source": [
        "x_test_orig = pd.DataFrame(x_test_unique_total, columns = [\"total\"])\n",
        "x_test_index = x_test_orig.index\n",
        "# x_test = x_test.total.unique()\n",
        "# x_test = pd.DataFrame(x_test, columns = [\"total\"])\n",
        "x_test = x_test_orig.reset_index()\n",
        "x_test.head(10)"
      ]
    },
    {
      "cell_type": "code",
      "execution_count": null,
      "metadata": {
        "colab": {
          "base_uri": "https://localhost:8080/"
        },
        "id": "zv0Dmtv_eEbw",
        "outputId": "e2cb8aed-89c3-481e-d1fb-6838434971eb"
      },
      "outputs": [
        {
          "output_type": "execute_result",
          "data": {
            "text/plain": [
              "Int64Index([1353, 4952, 1772,  779,  618, 1157,  290,  221,  703, 3092,  100,\n",
              "             706, 5016, 3922,  970,  112, 3944, 3078, 3666, 3441,   46,  227,\n",
              "            4020, 3320, 1196,  650, 3004, 3323,   15, 1841, 3246,  875,  503,\n",
              "            3604, 3896, 3700,  660, 6024,   90,  526, 2013,  488, 5015, 3119,\n",
              "            6019, 3671, 3003, 1699, 2010, 6002, 4008, 1550, 1640, 3510, 1329,\n",
              "             282, 3277, 3935, 4004,  930, 3669],\n",
              "           dtype='int64')"
            ]
          },
          "metadata": {},
          "execution_count": 29
        }
      ],
      "source": [
        "x_test_index"
      ]
    },
    {
      "cell_type": "code",
      "execution_count": null,
      "metadata": {
        "colab": {
          "base_uri": "https://localhost:8080/"
        },
        "id": "VAjz-I22RnH3",
        "outputId": "acfbd0d6-dc08-4c7f-97ba-cda8ad2db027"
      },
      "outputs": [
        {
          "output_type": "stream",
          "name": "stdout",
          "text": [
            "[20 12 10 ...  8 16 19]\n",
            " [train_on_chunk] Done training!\n",
            "[51 51 53 ... 52 51 50]\n",
            " [train_on_chunk] Done training!\n",
            "[123. 123. 122. 123. 125. 125. 123. 123. 123. 123. 122. 123. 123. 123.\n",
            " 122. 123. 123. 125. 125. 123. 123. 123. 126. 125. 123. 123. 123. 123.\n",
            " 123. 125. 123. 126. 123. 125. 123. 123. 123. 125. 125. 125. 123. 123.\n",
            " 126. 123. 123. 123. 125. 123. 123. 125. 123. 124. 123. 123. 123. 125.\n",
            " 125. 125. 123. 123. 123. 125. 125. 123. 122. 125. 125. 123. 123. 125.\n",
            " 123. 123. 123. 122. 123. 125. 123. 125. 125. 125. 123. 125. 123. 122.\n",
            " 123. 123. 124. 123. 124. 123. 123. 123. 123. 125. 124. 123. 123. 122.\n",
            " 125.]\n",
            " [train_on_chunk] Done training!\n"
          ]
        }
      ],
      "source": [
        "#FUNCTIONALITY TEST\n",
        "list_of_appliance = ['c0', 'c1', 'c2']\n",
        "co = CO()\n",
        "co.train(x_train, list_of_appliance)"
      ]
    },
    {
      "cell_type": "code",
      "execution_count": null,
      "metadata": {
        "id": "_lwdPQAjTFjw"
      },
      "outputs": [],
      "source": [
        "co.save(\"co_trained_model\")"
      ]
    },
    {
      "cell_type": "code",
      "execution_count": null,
      "metadata": {
        "colab": {
          "base_uri": "https://localhost:8080/",
          "height": 363
        },
        "id": "C3xYY0lbk9mV",
        "outputId": "bfc83e8e-3a88-4c46-ed37-2bb7a093d627"
      },
      "outputs": [
        {
          "output_type": "execute_result",
          "data": {
            "text/html": [
              "\n",
              "  <div id=\"df-308b2c15-2b0f-442a-acc1-7b166b97199b\">\n",
              "    <div class=\"colab-df-container\">\n",
              "      <div>\n",
              "<style scoped>\n",
              "    .dataframe tbody tr th:only-of-type {\n",
              "        vertical-align: middle;\n",
              "    }\n",
              "\n",
              "    .dataframe tbody tr th {\n",
              "        vertical-align: top;\n",
              "    }\n",
              "\n",
              "    .dataframe thead th {\n",
              "        text-align: right;\n",
              "    }\n",
              "</style>\n",
              "<table border=\"1\" class=\"dataframe\">\n",
              "  <thead>\n",
              "    <tr style=\"text-align: right;\">\n",
              "      <th></th>\n",
              "      <th>index</th>\n",
              "      <th>total</th>\n",
              "    </tr>\n",
              "  </thead>\n",
              "  <tbody>\n",
              "    <tr>\n",
              "      <th>0</th>\n",
              "      <td>1353</td>\n",
              "      <td>50.0</td>\n",
              "    </tr>\n",
              "    <tr>\n",
              "      <th>1</th>\n",
              "      <td>4952</td>\n",
              "      <td>NaN</td>\n",
              "    </tr>\n",
              "    <tr>\n",
              "      <th>2</th>\n",
              "      <td>1772</td>\n",
              "      <td>51.0</td>\n",
              "    </tr>\n",
              "    <tr>\n",
              "      <th>3</th>\n",
              "      <td>779</td>\n",
              "      <td>8.0</td>\n",
              "    </tr>\n",
              "    <tr>\n",
              "      <th>4</th>\n",
              "      <td>618</td>\n",
              "      <td>15.0</td>\n",
              "    </tr>\n",
              "    <tr>\n",
              "      <th>5</th>\n",
              "      <td>1157</td>\n",
              "      <td>52.0</td>\n",
              "    </tr>\n",
              "    <tr>\n",
              "      <th>6</th>\n",
              "      <td>290</td>\n",
              "      <td>22.0</td>\n",
              "    </tr>\n",
              "    <tr>\n",
              "      <th>7</th>\n",
              "      <td>221</td>\n",
              "      <td>10.0</td>\n",
              "    </tr>\n",
              "    <tr>\n",
              "      <th>8</th>\n",
              "      <td>703</td>\n",
              "      <td>14.0</td>\n",
              "    </tr>\n",
              "    <tr>\n",
              "      <th>9</th>\n",
              "      <td>3092</td>\n",
              "      <td>68.0</td>\n",
              "    </tr>\n",
              "  </tbody>\n",
              "</table>\n",
              "</div>\n",
              "      <button class=\"colab-df-convert\" onclick=\"convertToInteractive('df-308b2c15-2b0f-442a-acc1-7b166b97199b')\"\n",
              "              title=\"Convert this dataframe to an interactive table.\"\n",
              "              style=\"display:none;\">\n",
              "        \n",
              "  <svg xmlns=\"http://www.w3.org/2000/svg\" height=\"24px\"viewBox=\"0 0 24 24\"\n",
              "       width=\"24px\">\n",
              "    <path d=\"M0 0h24v24H0V0z\" fill=\"none\"/>\n",
              "    <path d=\"M18.56 5.44l.94 2.06.94-2.06 2.06-.94-2.06-.94-.94-2.06-.94 2.06-2.06.94zm-11 1L8.5 8.5l.94-2.06 2.06-.94-2.06-.94L8.5 2.5l-.94 2.06-2.06.94zm10 10l.94 2.06.94-2.06 2.06-.94-2.06-.94-.94-2.06-.94 2.06-2.06.94z\"/><path d=\"M17.41 7.96l-1.37-1.37c-.4-.4-.92-.59-1.43-.59-.52 0-1.04.2-1.43.59L10.3 9.45l-7.72 7.72c-.78.78-.78 2.05 0 2.83L4 21.41c.39.39.9.59 1.41.59.51 0 1.02-.2 1.41-.59l7.78-7.78 2.81-2.81c.8-.78.8-2.07 0-2.86zM5.41 20L4 18.59l7.72-7.72 1.47 1.35L5.41 20z\"/>\n",
              "  </svg>\n",
              "      </button>\n",
              "      \n",
              "  <style>\n",
              "    .colab-df-container {\n",
              "      display:flex;\n",
              "      flex-wrap:wrap;\n",
              "      gap: 12px;\n",
              "    }\n",
              "\n",
              "    .colab-df-convert {\n",
              "      background-color: #E8F0FE;\n",
              "      border: none;\n",
              "      border-radius: 50%;\n",
              "      cursor: pointer;\n",
              "      display: none;\n",
              "      fill: #1967D2;\n",
              "      height: 32px;\n",
              "      padding: 0 0 0 0;\n",
              "      width: 32px;\n",
              "    }\n",
              "\n",
              "    .colab-df-convert:hover {\n",
              "      background-color: #E2EBFA;\n",
              "      box-shadow: 0px 1px 2px rgba(60, 64, 67, 0.3), 0px 1px 3px 1px rgba(60, 64, 67, 0.15);\n",
              "      fill: #174EA6;\n",
              "    }\n",
              "\n",
              "    [theme=dark] .colab-df-convert {\n",
              "      background-color: #3B4455;\n",
              "      fill: #D2E3FC;\n",
              "    }\n",
              "\n",
              "    [theme=dark] .colab-df-convert:hover {\n",
              "      background-color: #434B5C;\n",
              "      box-shadow: 0px 1px 3px 1px rgba(0, 0, 0, 0.15);\n",
              "      filter: drop-shadow(0px 1px 2px rgba(0, 0, 0, 0.3));\n",
              "      fill: #FFFFFF;\n",
              "    }\n",
              "  </style>\n",
              "\n",
              "      <script>\n",
              "        const buttonEl =\n",
              "          document.querySelector('#df-308b2c15-2b0f-442a-acc1-7b166b97199b button.colab-df-convert');\n",
              "        buttonEl.style.display =\n",
              "          google.colab.kernel.accessAllowed ? 'block' : 'none';\n",
              "\n",
              "        async function convertToInteractive(key) {\n",
              "          const element = document.querySelector('#df-308b2c15-2b0f-442a-acc1-7b166b97199b');\n",
              "          const dataTable =\n",
              "            await google.colab.kernel.invokeFunction('convertToInteractive',\n",
              "                                                     [key], {});\n",
              "          if (!dataTable) return;\n",
              "\n",
              "          const docLinkHtml = 'Like what you see? Visit the ' +\n",
              "            '<a target=\"_blank\" href=https://colab.research.google.com/notebooks/data_table.ipynb>data table notebook</a>'\n",
              "            + ' to learn more about interactive tables.';\n",
              "          element.innerHTML = '';\n",
              "          dataTable['output_type'] = 'display_data';\n",
              "          await google.colab.output.renderOutput(dataTable, element);\n",
              "          const docLink = document.createElement('div');\n",
              "          docLink.innerHTML = docLinkHtml;\n",
              "          element.appendChild(docLink);\n",
              "        }\n",
              "      </script>\n",
              "    </div>\n",
              "  </div>\n",
              "  "
            ],
            "text/plain": [
              "   index  total\n",
              "0   1353   50.0\n",
              "1   4952    NaN\n",
              "2   1772   51.0\n",
              "3    779    8.0\n",
              "4    618   15.0\n",
              "5   1157   52.0\n",
              "6    290   22.0\n",
              "7    221   10.0\n",
              "8    703   14.0\n",
              "9   3092   68.0"
            ]
          },
          "metadata": {},
          "execution_count": 32
        }
      ],
      "source": [
        "x_test.head(10)"
      ]
    },
    {
      "cell_type": "code",
      "execution_count": null,
      "metadata": {
        "colab": {
          "base_uri": "https://localhost:8080/"
        },
        "id": "0Y8lSBtkTJuF",
        "outputId": "337a7021-1971-4c5a-dd8b-0c75f36c096d"
      },
      "outputs": [
        {
          "output_type": "stream",
          "name": "stdout",
          "text": [
            "state combinations:\n",
            "[[  0   0   0]\n",
            " [  0   0 124]\n",
            " [  0  51   0]\n",
            " [  0  51 124]\n",
            " [ 14   0   0]\n",
            " [ 14   0 124]\n",
            " [ 14  51   0]\n",
            " [ 14  51 124]]\n",
            "Estimating power demand for 'c0'\n",
            "Estimating power demand for 'c1'\n",
            "Estimating power demand for 'c2'\n"
          ]
        }
      ],
      "source": [
        "x_test = pd.DataFrame(x_test, columns = [\"total\"])\n",
        "prediction = co.disaggregate(x_test)"
      ]
    },
    {
      "cell_type": "code",
      "execution_count": null,
      "metadata": {
        "colab": {
          "base_uri": "https://localhost:8080/"
        },
        "id": "rlNwSS6NVTpL",
        "outputId": "8d0dc1aa-32e7-41e3-991a-5a58736c75ba"
      },
      "outputs": [
        {
          "output_type": "stream",
          "name": "stdout",
          "text": [
            "      c0    c1     c2\n",
            "0    0.0  51.0    0.0\n",
            "1   14.0  51.0  124.0\n",
            "2    0.0  51.0    0.0\n",
            "3   14.0   0.0    0.0\n",
            "4   14.0   0.0    0.0\n",
            "5    0.0  51.0    0.0\n",
            "6   14.0   0.0    0.0\n",
            "7   14.0   0.0    0.0\n",
            "8   14.0   0.0    0.0\n",
            "9   14.0  51.0    0.0\n",
            "10  14.0   0.0    0.0\n",
            "11  14.0   0.0    0.0\n",
            "12   0.0  51.0  124.0\n",
            "13  14.0  51.0    0.0\n",
            "14  14.0   0.0    0.0\n",
            "15  14.0   0.0    0.0\n",
            "16  14.0  51.0    0.0\n",
            "17  14.0  51.0    0.0\n",
            "18  14.0  51.0    0.0\n",
            "19  14.0  51.0    0.0\n"
          ]
        }
      ],
      "source": [
        "print(prediction.head(20))"
      ]
    },
    {
      "cell_type": "code",
      "execution_count": null,
      "metadata": {
        "id": "XGn8cxLv7XhJ"
      },
      "outputs": [],
      "source": [
        "pd.set_option('display.max_columns', None)\n",
        "pd.set_option('display.max_rows', None)"
      ]
    },
    {
      "cell_type": "code",
      "execution_count": null,
      "metadata": {
        "colab": {
          "base_uri": "https://localhost:8080/",
          "height": 394
        },
        "id": "VqLp6KOdj6YT",
        "outputId": "904bdb6e-1632-4b15-da4e-ab42c074d42c"
      },
      "outputs": [
        {
          "output_type": "execute_result",
          "data": {
            "text/html": [
              "\n",
              "  <div id=\"df-538c4820-c1c1-442f-87cf-0e2ff2c2641f\">\n",
              "    <div class=\"colab-df-container\">\n",
              "      <div>\n",
              "<style scoped>\n",
              "    .dataframe tbody tr th:only-of-type {\n",
              "        vertical-align: middle;\n",
              "    }\n",
              "\n",
              "    .dataframe tbody tr th {\n",
              "        vertical-align: top;\n",
              "    }\n",
              "\n",
              "    .dataframe thead th {\n",
              "        text-align: right;\n",
              "    }\n",
              "</style>\n",
              "<table border=\"1\" class=\"dataframe\">\n",
              "  <thead>\n",
              "    <tr style=\"text-align: right;\">\n",
              "      <th></th>\n",
              "      <th>c0</th>\n",
              "      <th>c1</th>\n",
              "      <th>c2</th>\n",
              "    </tr>\n",
              "  </thead>\n",
              "  <tbody>\n",
              "    <tr>\n",
              "      <th>1</th>\n",
              "      <td>14.0</td>\n",
              "      <td>51.0</td>\n",
              "      <td>124.0</td>\n",
              "    </tr>\n",
              "    <tr>\n",
              "      <th>12</th>\n",
              "      <td>0.0</td>\n",
              "      <td>51.0</td>\n",
              "      <td>124.0</td>\n",
              "    </tr>\n",
              "    <tr>\n",
              "      <th>22</th>\n",
              "      <td>14.0</td>\n",
              "      <td>0.0</td>\n",
              "      <td>124.0</td>\n",
              "    </tr>\n",
              "    <tr>\n",
              "      <th>37</th>\n",
              "      <td>0.0</td>\n",
              "      <td>51.0</td>\n",
              "      <td>124.0</td>\n",
              "    </tr>\n",
              "    <tr>\n",
              "      <th>40</th>\n",
              "      <td>0.0</td>\n",
              "      <td>0.0</td>\n",
              "      <td>124.0</td>\n",
              "    </tr>\n",
              "    <tr>\n",
              "      <th>42</th>\n",
              "      <td>0.0</td>\n",
              "      <td>51.0</td>\n",
              "      <td>124.0</td>\n",
              "    </tr>\n",
              "    <tr>\n",
              "      <th>44</th>\n",
              "      <td>0.0</td>\n",
              "      <td>51.0</td>\n",
              "      <td>124.0</td>\n",
              "    </tr>\n",
              "    <tr>\n",
              "      <th>48</th>\n",
              "      <td>0.0</td>\n",
              "      <td>0.0</td>\n",
              "      <td>124.0</td>\n",
              "    </tr>\n",
              "    <tr>\n",
              "      <th>49</th>\n",
              "      <td>0.0</td>\n",
              "      <td>51.0</td>\n",
              "      <td>124.0</td>\n",
              "    </tr>\n",
              "    <tr>\n",
              "      <th>50</th>\n",
              "      <td>14.0</td>\n",
              "      <td>0.0</td>\n",
              "      <td>124.0</td>\n",
              "    </tr>\n",
              "    <tr>\n",
              "      <th>58</th>\n",
              "      <td>14.0</td>\n",
              "      <td>0.0</td>\n",
              "      <td>124.0</td>\n",
              "    </tr>\n",
              "  </tbody>\n",
              "</table>\n",
              "</div>\n",
              "      <button class=\"colab-df-convert\" onclick=\"convertToInteractive('df-538c4820-c1c1-442f-87cf-0e2ff2c2641f')\"\n",
              "              title=\"Convert this dataframe to an interactive table.\"\n",
              "              style=\"display:none;\">\n",
              "        \n",
              "  <svg xmlns=\"http://www.w3.org/2000/svg\" height=\"24px\"viewBox=\"0 0 24 24\"\n",
              "       width=\"24px\">\n",
              "    <path d=\"M0 0h24v24H0V0z\" fill=\"none\"/>\n",
              "    <path d=\"M18.56 5.44l.94 2.06.94-2.06 2.06-.94-2.06-.94-.94-2.06-.94 2.06-2.06.94zm-11 1L8.5 8.5l.94-2.06 2.06-.94-2.06-.94L8.5 2.5l-.94 2.06-2.06.94zm10 10l.94 2.06.94-2.06 2.06-.94-2.06-.94-.94-2.06-.94 2.06-2.06.94z\"/><path d=\"M17.41 7.96l-1.37-1.37c-.4-.4-.92-.59-1.43-.59-.52 0-1.04.2-1.43.59L10.3 9.45l-7.72 7.72c-.78.78-.78 2.05 0 2.83L4 21.41c.39.39.9.59 1.41.59.51 0 1.02-.2 1.41-.59l7.78-7.78 2.81-2.81c.8-.78.8-2.07 0-2.86zM5.41 20L4 18.59l7.72-7.72 1.47 1.35L5.41 20z\"/>\n",
              "  </svg>\n",
              "      </button>\n",
              "      \n",
              "  <style>\n",
              "    .colab-df-container {\n",
              "      display:flex;\n",
              "      flex-wrap:wrap;\n",
              "      gap: 12px;\n",
              "    }\n",
              "\n",
              "    .colab-df-convert {\n",
              "      background-color: #E8F0FE;\n",
              "      border: none;\n",
              "      border-radius: 50%;\n",
              "      cursor: pointer;\n",
              "      display: none;\n",
              "      fill: #1967D2;\n",
              "      height: 32px;\n",
              "      padding: 0 0 0 0;\n",
              "      width: 32px;\n",
              "    }\n",
              "\n",
              "    .colab-df-convert:hover {\n",
              "      background-color: #E2EBFA;\n",
              "      box-shadow: 0px 1px 2px rgba(60, 64, 67, 0.3), 0px 1px 3px 1px rgba(60, 64, 67, 0.15);\n",
              "      fill: #174EA6;\n",
              "    }\n",
              "\n",
              "    [theme=dark] .colab-df-convert {\n",
              "      background-color: #3B4455;\n",
              "      fill: #D2E3FC;\n",
              "    }\n",
              "\n",
              "    [theme=dark] .colab-df-convert:hover {\n",
              "      background-color: #434B5C;\n",
              "      box-shadow: 0px 1px 3px 1px rgba(0, 0, 0, 0.15);\n",
              "      filter: drop-shadow(0px 1px 2px rgba(0, 0, 0, 0.3));\n",
              "      fill: #FFFFFF;\n",
              "    }\n",
              "  </style>\n",
              "\n",
              "      <script>\n",
              "        const buttonEl =\n",
              "          document.querySelector('#df-538c4820-c1c1-442f-87cf-0e2ff2c2641f button.colab-df-convert');\n",
              "        buttonEl.style.display =\n",
              "          google.colab.kernel.accessAllowed ? 'block' : 'none';\n",
              "\n",
              "        async function convertToInteractive(key) {\n",
              "          const element = document.querySelector('#df-538c4820-c1c1-442f-87cf-0e2ff2c2641f');\n",
              "          const dataTable =\n",
              "            await google.colab.kernel.invokeFunction('convertToInteractive',\n",
              "                                                     [key], {});\n",
              "          if (!dataTable) return;\n",
              "\n",
              "          const docLinkHtml = 'Like what you see? Visit the ' +\n",
              "            '<a target=\"_blank\" href=https://colab.research.google.com/notebooks/data_table.ipynb>data table notebook</a>'\n",
              "            + ' to learn more about interactive tables.';\n",
              "          element.innerHTML = '';\n",
              "          dataTable['output_type'] = 'display_data';\n",
              "          await google.colab.output.renderOutput(dataTable, element);\n",
              "          const docLink = document.createElement('div');\n",
              "          docLink.innerHTML = docLinkHtml;\n",
              "          element.appendChild(docLink);\n",
              "        }\n",
              "      </script>\n",
              "    </div>\n",
              "  </div>\n",
              "  "
            ],
            "text/plain": [
              "      c0    c1     c2\n",
              "1   14.0  51.0  124.0\n",
              "12   0.0  51.0  124.0\n",
              "22  14.0   0.0  124.0\n",
              "37   0.0  51.0  124.0\n",
              "40   0.0   0.0  124.0\n",
              "42   0.0  51.0  124.0\n",
              "44   0.0  51.0  124.0\n",
              "48   0.0   0.0  124.0\n",
              "49   0.0  51.0  124.0\n",
              "50  14.0   0.0  124.0\n",
              "58  14.0   0.0  124.0"
            ]
          },
          "metadata": {},
          "execution_count": 36
        }
      ],
      "source": [
        "prediction[prediction['c2'] != 0]"
      ]
    },
    {
      "cell_type": "code",
      "execution_count": null,
      "metadata": {
        "colab": {
          "base_uri": "https://localhost:8080/",
          "height": 763
        },
        "id": "o6iuh8K4462L",
        "outputId": "2b93f25b-bda7-4a2f-ac89-2db4b94edada"
      },
      "outputs": [
        {
          "output_type": "stream",
          "name": "stderr",
          "text": [
            "/usr/local/lib/python3.7/dist-packages/ipykernel_launcher.py:11: SettingWithCopyWarning: \n",
            "A value is trying to be set on a copy of a slice from a DataFrame\n",
            "\n",
            "See the caveats in the documentation: https://pandas.pydata.org/pandas-docs/stable/user_guide/indexing.html#returning-a-view-versus-a-copy\n",
            "  # This is added back by InteractiveShellApp.init_path()\n"
          ]
        },
        {
          "output_type": "execute_result",
          "data": {
            "text/html": [
              "\n",
              "  <div id=\"df-611395b0-ccf1-4622-bafb-681fa8d61ddd\">\n",
              "    <div class=\"colab-df-container\">\n",
              "      <div>\n",
              "<style scoped>\n",
              "    .dataframe tbody tr th:only-of-type {\n",
              "        vertical-align: middle;\n",
              "    }\n",
              "\n",
              "    .dataframe tbody tr th {\n",
              "        vertical-align: top;\n",
              "    }\n",
              "\n",
              "    .dataframe thead th {\n",
              "        text-align: right;\n",
              "    }\n",
              "</style>\n",
              "<table border=\"1\" class=\"dataframe\">\n",
              "  <thead>\n",
              "    <tr style=\"text-align: right;\">\n",
              "      <th></th>\n",
              "      <th>c0</th>\n",
              "      <th>c1</th>\n",
              "      <th>c2</th>\n",
              "      <th>label</th>\n",
              "    </tr>\n",
              "  </thead>\n",
              "  <tbody>\n",
              "    <tr>\n",
              "      <th>41</th>\n",
              "      <td>14.0</td>\n",
              "      <td>0.0</td>\n",
              "      <td>0.0</td>\n",
              "      <td>c0</td>\n",
              "    </tr>\n",
              "    <tr>\n",
              "      <th>42</th>\n",
              "      <td>0.0</td>\n",
              "      <td>51.0</td>\n",
              "      <td>124.0</td>\n",
              "      <td>c1c2</td>\n",
              "    </tr>\n",
              "    <tr>\n",
              "      <th>43</th>\n",
              "      <td>14.0</td>\n",
              "      <td>51.0</td>\n",
              "      <td>0.0</td>\n",
              "      <td>c0c1</td>\n",
              "    </tr>\n",
              "    <tr>\n",
              "      <th>44</th>\n",
              "      <td>0.0</td>\n",
              "      <td>51.0</td>\n",
              "      <td>124.0</td>\n",
              "      <td>c1c2</td>\n",
              "    </tr>\n",
              "    <tr>\n",
              "      <th>45</th>\n",
              "      <td>14.0</td>\n",
              "      <td>51.0</td>\n",
              "      <td>0.0</td>\n",
              "      <td>c0c1</td>\n",
              "    </tr>\n",
              "    <tr>\n",
              "      <th>46</th>\n",
              "      <td>14.0</td>\n",
              "      <td>51.0</td>\n",
              "      <td>0.0</td>\n",
              "      <td>c0c1</td>\n",
              "    </tr>\n",
              "    <tr>\n",
              "      <th>47</th>\n",
              "      <td>0.0</td>\n",
              "      <td>51.0</td>\n",
              "      <td>0.0</td>\n",
              "      <td>c1</td>\n",
              "    </tr>\n",
              "    <tr>\n",
              "      <th>48</th>\n",
              "      <td>0.0</td>\n",
              "      <td>0.0</td>\n",
              "      <td>124.0</td>\n",
              "      <td>c2</td>\n",
              "    </tr>\n",
              "    <tr>\n",
              "      <th>49</th>\n",
              "      <td>0.0</td>\n",
              "      <td>51.0</td>\n",
              "      <td>124.0</td>\n",
              "      <td>c1c2</td>\n",
              "    </tr>\n",
              "    <tr>\n",
              "      <th>50</th>\n",
              "      <td>14.0</td>\n",
              "      <td>0.0</td>\n",
              "      <td>124.0</td>\n",
              "      <td>c0c2</td>\n",
              "    </tr>\n",
              "    <tr>\n",
              "      <th>51</th>\n",
              "      <td>0.0</td>\n",
              "      <td>51.0</td>\n",
              "      <td>0.0</td>\n",
              "      <td>c1</td>\n",
              "    </tr>\n",
              "    <tr>\n",
              "      <th>52</th>\n",
              "      <td>0.0</td>\n",
              "      <td>51.0</td>\n",
              "      <td>0.0</td>\n",
              "      <td>c1</td>\n",
              "    </tr>\n",
              "    <tr>\n",
              "      <th>53</th>\n",
              "      <td>14.0</td>\n",
              "      <td>51.0</td>\n",
              "      <td>0.0</td>\n",
              "      <td>c0c1</td>\n",
              "    </tr>\n",
              "    <tr>\n",
              "      <th>54</th>\n",
              "      <td>14.0</td>\n",
              "      <td>51.0</td>\n",
              "      <td>0.0</td>\n",
              "      <td>c0c1</td>\n",
              "    </tr>\n",
              "    <tr>\n",
              "      <th>55</th>\n",
              "      <td>14.0</td>\n",
              "      <td>0.0</td>\n",
              "      <td>0.0</td>\n",
              "      <td>c0</td>\n",
              "    </tr>\n",
              "    <tr>\n",
              "      <th>56</th>\n",
              "      <td>14.0</td>\n",
              "      <td>51.0</td>\n",
              "      <td>0.0</td>\n",
              "      <td>c0c1</td>\n",
              "    </tr>\n",
              "    <tr>\n",
              "      <th>57</th>\n",
              "      <td>0.0</td>\n",
              "      <td>51.0</td>\n",
              "      <td>0.0</td>\n",
              "      <td>c1</td>\n",
              "    </tr>\n",
              "    <tr>\n",
              "      <th>58</th>\n",
              "      <td>14.0</td>\n",
              "      <td>0.0</td>\n",
              "      <td>124.0</td>\n",
              "      <td>c0c2</td>\n",
              "    </tr>\n",
              "    <tr>\n",
              "      <th>59</th>\n",
              "      <td>14.0</td>\n",
              "      <td>0.0</td>\n",
              "      <td>0.0</td>\n",
              "      <td>c0</td>\n",
              "    </tr>\n",
              "    <tr>\n",
              "      <th>60</th>\n",
              "      <td>14.0</td>\n",
              "      <td>51.0</td>\n",
              "      <td>0.0</td>\n",
              "      <td>c0c1</td>\n",
              "    </tr>\n",
              "  </tbody>\n",
              "</table>\n",
              "</div>\n",
              "      <button class=\"colab-df-convert\" onclick=\"convertToInteractive('df-611395b0-ccf1-4622-bafb-681fa8d61ddd')\"\n",
              "              title=\"Convert this dataframe to an interactive table.\"\n",
              "              style=\"display:none;\">\n",
              "        \n",
              "  <svg xmlns=\"http://www.w3.org/2000/svg\" height=\"24px\"viewBox=\"0 0 24 24\"\n",
              "       width=\"24px\">\n",
              "    <path d=\"M0 0h24v24H0V0z\" fill=\"none\"/>\n",
              "    <path d=\"M18.56 5.44l.94 2.06.94-2.06 2.06-.94-2.06-.94-.94-2.06-.94 2.06-2.06.94zm-11 1L8.5 8.5l.94-2.06 2.06-.94-2.06-.94L8.5 2.5l-.94 2.06-2.06.94zm10 10l.94 2.06.94-2.06 2.06-.94-2.06-.94-.94-2.06-.94 2.06-2.06.94z\"/><path d=\"M17.41 7.96l-1.37-1.37c-.4-.4-.92-.59-1.43-.59-.52 0-1.04.2-1.43.59L10.3 9.45l-7.72 7.72c-.78.78-.78 2.05 0 2.83L4 21.41c.39.39.9.59 1.41.59.51 0 1.02-.2 1.41-.59l7.78-7.78 2.81-2.81c.8-.78.8-2.07 0-2.86zM5.41 20L4 18.59l7.72-7.72 1.47 1.35L5.41 20z\"/>\n",
              "  </svg>\n",
              "      </button>\n",
              "      \n",
              "  <style>\n",
              "    .colab-df-container {\n",
              "      display:flex;\n",
              "      flex-wrap:wrap;\n",
              "      gap: 12px;\n",
              "    }\n",
              "\n",
              "    .colab-df-convert {\n",
              "      background-color: #E8F0FE;\n",
              "      border: none;\n",
              "      border-radius: 50%;\n",
              "      cursor: pointer;\n",
              "      display: none;\n",
              "      fill: #1967D2;\n",
              "      height: 32px;\n",
              "      padding: 0 0 0 0;\n",
              "      width: 32px;\n",
              "    }\n",
              "\n",
              "    .colab-df-convert:hover {\n",
              "      background-color: #E2EBFA;\n",
              "      box-shadow: 0px 1px 2px rgba(60, 64, 67, 0.3), 0px 1px 3px 1px rgba(60, 64, 67, 0.15);\n",
              "      fill: #174EA6;\n",
              "    }\n",
              "\n",
              "    [theme=dark] .colab-df-convert {\n",
              "      background-color: #3B4455;\n",
              "      fill: #D2E3FC;\n",
              "    }\n",
              "\n",
              "    [theme=dark] .colab-df-convert:hover {\n",
              "      background-color: #434B5C;\n",
              "      box-shadow: 0px 1px 3px 1px rgba(0, 0, 0, 0.15);\n",
              "      filter: drop-shadow(0px 1px 2px rgba(0, 0, 0, 0.3));\n",
              "      fill: #FFFFFF;\n",
              "    }\n",
              "  </style>\n",
              "\n",
              "      <script>\n",
              "        const buttonEl =\n",
              "          document.querySelector('#df-611395b0-ccf1-4622-bafb-681fa8d61ddd button.colab-df-convert');\n",
              "        buttonEl.style.display =\n",
              "          google.colab.kernel.accessAllowed ? 'block' : 'none';\n",
              "\n",
              "        async function convertToInteractive(key) {\n",
              "          const element = document.querySelector('#df-611395b0-ccf1-4622-bafb-681fa8d61ddd');\n",
              "          const dataTable =\n",
              "            await google.colab.kernel.invokeFunction('convertToInteractive',\n",
              "                                                     [key], {});\n",
              "          if (!dataTable) return;\n",
              "\n",
              "          const docLinkHtml = 'Like what you see? Visit the ' +\n",
              "            '<a target=\"_blank\" href=https://colab.research.google.com/notebooks/data_table.ipynb>data table notebook</a>'\n",
              "            + ' to learn more about interactive tables.';\n",
              "          element.innerHTML = '';\n",
              "          dataTable['output_type'] = 'display_data';\n",
              "          await google.colab.output.renderOutput(dataTable, element);\n",
              "          const docLink = document.createElement('div');\n",
              "          docLink.innerHTML = docLinkHtml;\n",
              "          element.appendChild(docLink);\n",
              "        }\n",
              "      </script>\n",
              "    </div>\n",
              "  </div>\n",
              "  "
            ],
            "text/plain": [
              "      c0    c1     c2 label\n",
              "41  14.0   0.0    0.0    c0\n",
              "42   0.0  51.0  124.0  c1c2\n",
              "43  14.0  51.0    0.0  c0c1\n",
              "44   0.0  51.0  124.0  c1c2\n",
              "45  14.0  51.0    0.0  c0c1\n",
              "46  14.0  51.0    0.0  c0c1\n",
              "47   0.0  51.0    0.0    c1\n",
              "48   0.0   0.0  124.0    c2\n",
              "49   0.0  51.0  124.0  c1c2\n",
              "50  14.0   0.0  124.0  c0c2\n",
              "51   0.0  51.0    0.0    c1\n",
              "52   0.0  51.0    0.0    c1\n",
              "53  14.0  51.0    0.0  c0c1\n",
              "54  14.0  51.0    0.0  c0c1\n",
              "55  14.0   0.0    0.0    c0\n",
              "56  14.0  51.0    0.0  c0c1\n",
              "57   0.0  51.0    0.0    c1\n",
              "58  14.0   0.0  124.0  c0c2\n",
              "59  14.0   0.0    0.0    c0\n",
              "60  14.0  51.0    0.0  c0c1"
            ]
          },
          "metadata": {},
          "execution_count": 37
        }
      ],
      "source": [
        "prediction['label'] = ''\n",
        "for i, row in prediction.iterrows():\n",
        "  label_str = ''\n",
        "  if row.c0 != 0:\n",
        "    label_str = \"c0\"\n",
        "  if row.c1 != 0:\n",
        "    label_str = label_str + \"c1\"\n",
        "  if row.c2 != 0:\n",
        "    label_str = label_str + \"c2\"\n",
        "  \n",
        "  prediction.label[i] = label_str\n",
        "\n",
        "prediction.tail(20)"
      ]
    },
    {
      "cell_type": "markdown",
      "source": [
        "Test Data Plot"
      ],
      "metadata": {
        "id": "HWoEETJ9j_jC"
      }
    },
    {
      "cell_type": "code",
      "execution_count": null,
      "metadata": {
        "colab": {
          "base_uri": "https://localhost:8080/",
          "height": 283
        },
        "id": "mvgIGyI7CotU",
        "outputId": "a1f67439-a774-4e58-fcf4-3f4f5e02533d"
      },
      "outputs": [
        {
          "output_type": "display_data",
          "data": {
            "image/png": "[encoded data removed]",
            "text/plain": [
              "<Figure size 432x288 with 1 Axes>"
            ]
          },
          "metadata": {
            "needs_background": "light"
          }
        }
      ],
      "source": [
        "x_test_total = x_test_unique_total.reset_index(drop=True)\n",
        "x_test_total = pd.DataFrame(x_test_total, columns = [\"total\"])\n",
        "x_test_total.plot()\n",
        "plt.ylim([0, 200])\n",
        "plt.ylabel('Power')\n",
        "plt.xlabel('Index')\n",
        "plt.show()"
      ]
    },
    {
      "cell_type": "markdown",
      "source": [
        "Prediction Results Plot"
      ],
      "metadata": {
        "id": "DvrNESUKkBBZ"
      }
    },
    {
      "cell_type": "code",
      "execution_count": null,
      "metadata": {
        "colab": {
          "base_uri": "https://localhost:8080/",
          "height": 279
        },
        "id": "iWvI91ZHVb64",
        "outputId": "e09b4530-7753-463a-e56b-34185dd818b5"
      },
      "outputs": [
        {
          "output_type": "display_data",
          "data": {
            "image/png": "[encoded data removed]",
            "text/plain": [
              "<Figure size 432x288 with 1 Axes>"
            ]
          },
          "metadata": {
            "needs_background": "light"
          }
        }
      ],
      "source": [
        "prediction.plot()\n",
        "plt.ylabel('Power')\n",
        "plt.xlabel('Index')\n",
        "plt.show()"
      ]
    },
    {
      "cell_type": "code",
      "execution_count": null,
      "metadata": {
        "id": "Xbb2M0odfJfr"
      },
      "outputs": [],
      "source": [
        "#CONFUSION MATRIX\n",
        "from sklearn.metrics import confusion_matrix\n",
        "from sklearn.utils.multiclass import unique_labels\n",
        "def plot(y_true, y_pred):\n",
        "  labels = unique_labels(y_true)\n",
        "  column = [f'Predicted {label}' for label in labels]\n",
        "  indices = [f'Actual {label}' for label in labels]\n",
        "  table = pd.DataFrame(confusion_matrix(y_true, y_pred), columns = column, index = indices)\n",
        "  return table"
      ]
    },
    {
      "cell_type": "code",
      "execution_count": null,
      "metadata": {
        "id": "2n6MDrT9-u7s",
        "colab": {
          "base_uri": "https://localhost:8080/"
        },
        "outputId": "b27ff6cf-21b9-4ee7-8cb6-fdbb5eae8ee1"
      },
      "outputs": [
        {
          "output_type": "stream",
          "name": "stdout",
          "text": [
            "0.9508196721311475\n"
          ]
        }
      ],
      "source": [
        "from sklearn.metrics import accuracy_score\n",
        "print(accuracy_score(x_test_unique_total.label, prediction.label))"
      ]
    },
    {
      "cell_type": "code",
      "execution_count": null,
      "metadata": {
        "id": "RqfHDAJWlPZn",
        "colab": {
          "base_uri": "https://localhost:8080/"
        },
        "outputId": "a8dacb0f-200d-41ff-f6ea-a215eac8fe28"
      },
      "outputs": [
        {
          "output_type": "stream",
          "name": "stdout",
          "text": [
            "              precision    recall  f1-score   support\n",
            "\n",
            "          c0       1.00      1.00      1.00        21\n",
            "        c0c1       0.95      0.95      0.95        20\n",
            "      c0c1c2       0.00      0.00      0.00         0\n",
            "        c0c2       1.00      0.75      0.86         4\n",
            "          c1       0.89      0.89      0.89         9\n",
            "        c1c2       1.00      1.00      1.00         5\n",
            "          c2       1.00      1.00      1.00         2\n",
            "\n",
            "    accuracy                           0.95        61\n",
            "   macro avg       0.83      0.80      0.81        61\n",
            "weighted avg       0.97      0.95      0.96        61\n",
            "\n"
          ]
        }
      ],
      "source": [
        "from sklearn.metrics import classification_report\n",
        "c_rep = classification_report(x_test_unique_total.label, prediction.label, zero_division= 0)\n",
        "print(c_rep)"
      ]
    },
    {
      "cell_type": "markdown",
      "metadata": {
        "id": "yyl18IekJM4s"
      },
      "source": [
        "# ***Appliance Presence Prediction***"
      ]
    },
    {
      "cell_type": "markdown",
      "metadata": {
        "id": "zWL36eXI3gWy"
      },
      "source": [
        "# Use of Output shown:\n",
        "\n",
        "1.   **Shows which Appliances are working based on specific index.** \n",
        "2.   **Determines if Appliance was detected to be working at given index**\n",
        "3.   **Gives Index where Appliance is detected to be working**\n",
        "\n",
        "\n",
        "\n",
        "\n"
      ]
    },
    {
      "cell_type": "markdown",
      "source": [
        "\n",
        "Notes For Code\n",
        "*   Get predicted value for each device\n",
        "*   Check each index in prediction if the device is present\n",
        "*   Show the indices where the devices are present\n",
        "*   Multiple Conditions are set-up to adapt to the user's needs. Presence prediction can be done for multiple devices or single devices only.\n",
        "\n",
        "\n",
        "\n"
      ],
      "metadata": {
        "id": "S7J7t55qjK7S"
      }
    },
    {
      "cell_type": "code",
      "execution_count": null,
      "metadata": {
        "id": "oEe2R3LrKeZr",
        "colab": {
          "base_uri": "https://localhost:8080/"
        },
        "outputId": "ff0b356f-197a-483b-fcdf-472c08da322c"
      },
      "outputs": [
        {
          "output_type": "stream",
          "name": "stdout",
          "text": [
            "14.0 51.0 124.0\n"
          ]
        }
      ],
      "source": [
        "c0_pred = prediction['c0'].max()\n",
        "c1_pred = prediction['c1'].max()\n",
        "c2_pred = prediction['c2'].max()\n",
        "\n",
        "print(c0_pred, c1_pred, c2_pred)\n"
      ]
    },
    {
      "cell_type": "code",
      "execution_count": null,
      "metadata": {
        "id": "LTdnXkGXYzVG",
        "colab": {
          "base_uri": "https://localhost:8080/"
        },
        "outputId": "c7884f11-0dc3-4b18-8b86-042497e59178"
      },
      "outputs": [
        {
          "output_type": "stream",
          "name": "stdout",
          "text": [
            "       c0     c1     c2  label\n",
            "0   False   True  False  False\n",
            "1    True   True   True  False\n",
            "2   False   True  False  False\n",
            "3    True  False  False  False\n",
            "4    True  False  False  False\n",
            "5   False   True  False  False\n",
            "6    True  False  False  False\n",
            "7    True  False  False  False\n",
            "8    True  False  False  False\n",
            "9    True   True  False  False\n",
            "10   True  False  False  False\n",
            "11   True  False  False  False\n",
            "12  False   True   True  False\n",
            "13   True   True  False  False\n",
            "14   True  False  False  False\n",
            "15   True  False  False  False\n",
            "16   True   True  False  False\n",
            "17   True   True  False  False\n",
            "18   True   True  False  False\n",
            "19   True   True  False  False\n",
            "20   True  False  False  False\n",
            "21   True  False  False  False\n",
            "22   True  False   True  False\n",
            "23   True   True  False  False\n",
            "24  False   True  False  False\n",
            "25   True  False  False  False\n",
            "26   True   True  False  False\n",
            "27   True   True  False  False\n",
            "28   True  False  False  False\n",
            "29  False   True  False  False\n",
            "30   True   True  False  False\n",
            "31   True  False  False  False\n",
            "32   True  False  False  False\n",
            "33   True   True  False  False\n",
            "34   True   True  False  False\n",
            "35   True   True  False  False\n",
            "36   True  False  False  False\n",
            "37  False   True   True  False\n",
            "38   True  False  False  False\n",
            "39   True  False  False  False\n",
            "40  False  False   True  False\n",
            "41   True  False  False  False\n",
            "42  False   True   True  False\n",
            "43   True   True  False  False\n",
            "44  False   True   True  False\n",
            "45   True   True  False  False\n",
            "46   True   True  False  False\n",
            "47  False   True  False  False\n",
            "48  False  False   True  False\n",
            "49  False   True   True  False\n",
            "50   True  False   True  False\n",
            "51  False   True  False  False\n",
            "52  False   True  False  False\n",
            "53   True   True  False  False\n",
            "54   True   True  False  False\n",
            "55   True  False  False  False\n",
            "56   True   True  False  False\n",
            "57  False   True  False  False\n",
            "58   True  False   True  False\n",
            "59   True  False  False  False\n",
            "60   True   True  False  False\n"
          ]
        }
      ],
      "source": [
        "boolDf_all = prediction.isin([c0_pred, c1_pred, c2_pred])\n",
        "print(boolDf_all)"
      ]
    },
    {
      "cell_type": "code",
      "execution_count": null,
      "metadata": {
        "id": "oFVKqh0Pu4_E",
        "colab": {
          "base_uri": "https://localhost:8080/"
        },
        "outputId": "bdb1c6ee-416a-470b-9754-e51298987c6f"
      },
      "outputs": [
        {
          "output_type": "stream",
          "name": "stdout",
          "text": [
            "All appliances exist in indices: [1]\n"
          ]
        }
      ],
      "source": [
        "c_all_exists = prediction.loc[(prediction['c0'] == c0_pred) & (prediction['c1'] == c1_pred) & (prediction['c2'] == c2_pred)]\n",
        "print(\"All appliances exist in indices:\", c_all_exists.index.values)"
      ]
    },
    {
      "cell_type": "code",
      "execution_count": null,
      "metadata": {
        "id": "sEPhsTv9JNSQ",
        "colab": {
          "base_uri": "https://localhost:8080/"
        },
        "outputId": "5a92b771-f226-45ce-edf4-74622fb49512"
      },
      "outputs": [
        {
          "output_type": "stream",
          "name": "stdout",
          "text": [
            "       c0     c1     c2  label\n",
            "0   False  False  False  False\n",
            "1    True  False  False  False\n",
            "2   False  False  False  False\n",
            "3    True  False  False  False\n",
            "4    True  False  False  False\n",
            "5   False  False  False  False\n",
            "6    True  False  False  False\n",
            "7    True  False  False  False\n",
            "8    True  False  False  False\n",
            "9    True  False  False  False\n",
            "10   True  False  False  False\n",
            "11   True  False  False  False\n",
            "12  False  False  False  False\n",
            "13   True  False  False  False\n",
            "14   True  False  False  False\n",
            "15   True  False  False  False\n",
            "16   True  False  False  False\n",
            "17   True  False  False  False\n",
            "18   True  False  False  False\n",
            "19   True  False  False  False\n",
            "20   True  False  False  False\n",
            "21   True  False  False  False\n",
            "22   True  False  False  False\n",
            "23   True  False  False  False\n",
            "24  False  False  False  False\n",
            "25   True  False  False  False\n",
            "26   True  False  False  False\n",
            "27   True  False  False  False\n",
            "28   True  False  False  False\n",
            "29  False  False  False  False\n",
            "30   True  False  False  False\n",
            "31   True  False  False  False\n",
            "32   True  False  False  False\n",
            "33   True  False  False  False\n",
            "34   True  False  False  False\n",
            "35   True  False  False  False\n",
            "36   True  False  False  False\n",
            "37  False  False  False  False\n",
            "38   True  False  False  False\n",
            "39   True  False  False  False\n",
            "40  False  False  False  False\n",
            "41   True  False  False  False\n",
            "42  False  False  False  False\n",
            "43   True  False  False  False\n",
            "44  False  False  False  False\n",
            "45   True  False  False  False\n",
            "46   True  False  False  False\n",
            "47  False  False  False  False\n",
            "48  False  False  False  False\n",
            "49  False  False  False  False\n",
            "50   True  False  False  False\n",
            "51  False  False  False  False\n",
            "52  False  False  False  False\n",
            "53   True  False  False  False\n",
            "54   True  False  False  False\n",
            "55   True  False  False  False\n",
            "56   True  False  False  False\n",
            "57  False  False  False  False\n",
            "58   True  False  False  False\n",
            "59   True  False  False  False\n",
            "60   True  False  False  False\n"
          ]
        }
      ],
      "source": [
        "boolDf_c0 = prediction.isin([c0_pred])\n",
        "print(boolDf_c0)"
      ]
    },
    {
      "cell_type": "code",
      "execution_count": null,
      "metadata": {
        "id": "noJjMVA1uzJA",
        "colab": {
          "base_uri": "https://localhost:8080/"
        },
        "outputId": "9a9516af-a5b7-4b0c-a1b8-430d7a9f1573"
      },
      "outputs": [
        {
          "output_type": "stream",
          "name": "stdout",
          "text": [
            "fan exists in indices: [ 1  3  4  6  7  8  9 10 11 13 14 15 16 17 18 19 20 21 22 23 25 26 27 28\n",
            " 30 31 32 33 34 35 36 38 39 41 43 45 46 50 53 54 55 56 58 59 60]\n"
          ]
        }
      ],
      "source": [
        "c0_exists = prediction.loc[prediction['c0'] == c0_pred]\n",
        "print(\"fan exists in indices:\", c0_exists.index.values)"
      ]
    },
    {
      "cell_type": "code",
      "execution_count": null,
      "metadata": {
        "id": "TjTKiT6GXDwE",
        "colab": {
          "base_uri": "https://localhost:8080/"
        },
        "outputId": "d6e4531b-160f-4252-fd3b-12c8610f842d"
      },
      "outputs": [
        {
          "output_type": "stream",
          "name": "stdout",
          "text": [
            "       c0     c1     c2  label\n",
            "0   False   True  False  False\n",
            "1   False   True  False  False\n",
            "2   False   True  False  False\n",
            "3   False   True  False  False\n",
            "4   False   True  False  False\n",
            "5   False  False  False  False\n",
            "6   False  False  False  False\n",
            "7   False   True  False  False\n",
            "8   False   True  False  False\n",
            "9   False   True  False  False\n",
            "10  False   True  False  False\n",
            "11  False   True  False  False\n",
            "12  False  False  False  False\n",
            "13  False   True  False  False\n",
            "14  False   True  False  False\n",
            "15  False   True  False  False\n",
            "16  False   True  False  False\n",
            "17  False   True  False  False\n",
            "18  False  False  False  False\n",
            "19  False   True  False  False\n",
            "20  False  False  False  False\n",
            "21  False  False  False  False\n",
            "22  False  False  False  False\n",
            "23  False   True  False  False\n",
            "24  False   True  False  False\n",
            "25  False   True  False  False\n",
            "26  False   True  False  False\n",
            "27  False  False  False  False\n",
            "28  False  False  False  False\n",
            "29  False   True  False  False\n",
            "30  False   True  False  False\n",
            "31  False  False  False  False\n",
            "32  False   True  False  False\n",
            "33  False  False  False  False\n",
            "34  False  False  False  False\n",
            "35  False  False  False  False\n",
            "36  False  False  False  False\n",
            "37  False  False  False  False\n",
            "38  False  False  False  False\n",
            "39  False   True  False  False\n",
            "40  False   True  False  False\n",
            "41  False  False  False  False\n",
            "42  False  False  False  False\n",
            "43  False   True  False  False\n",
            "44  False   True  False  False\n",
            "45  False  False  False  False\n",
            "46  False   True  False  False\n",
            "47  False   True  False  False\n",
            "48  False  False  False  False\n",
            "49  False   True  False  False\n",
            "50  False   True  False  False\n",
            "51  False   True  False  False\n",
            "52  False  False  False  False\n",
            "53  False  False  False  False\n",
            "54  False   True  False  False\n",
            "55  False   True  False  False\n",
            "56  False  False  False  False\n",
            "57  False   True  False  False\n",
            "58  False   True  False  False\n",
            "59  False   True  False  False\n",
            "60  False  False  False  False\n",
            "61  False  False  False  False\n",
            "62  False  False  False  False\n",
            "63  False  False  False  False\n",
            "64  False   True  False  False\n",
            "65  False  False  False  False\n"
          ]
        }
      ],
      "source": [
        "boolDf_c1 = prediction.isin([c1_pred])\n",
        "print(boolDf_c1)"
      ]
    },
    {
      "cell_type": "code",
      "execution_count": null,
      "metadata": {
        "id": "QDRaek2ujOoQ",
        "colab": {
          "base_uri": "https://localhost:8080/"
        },
        "outputId": "3a3cfbff-938c-4324-d572-1ac0f07081ce"
      },
      "outputs": [
        {
          "output_type": "stream",
          "name": "stdout",
          "text": [
            "Laptop exists in indices: [ 0  1  2  5  9 12 13 16 17 18 19 23 24 26 27 29 30 33 34 35 37 42 43 44\n",
            " 45 46 47 49 51 52 53 54 56 57 60]\n"
          ]
        }
      ],
      "source": [
        "c1_exists = prediction.loc[prediction['c1'] == c1_pred]\n",
        "print(\"Laptop exists in indices:\", c1_exists.index.values)"
      ]
    },
    {
      "cell_type": "code",
      "execution_count": null,
      "metadata": {
        "id": "JMlNdMNUuTvN",
        "colab": {
          "base_uri": "https://localhost:8080/"
        },
        "outputId": "082d1ca2-a7f4-4cbc-8596-3e2977b6379d"
      },
      "outputs": [
        {
          "output_type": "stream",
          "name": "stdout",
          "text": [
            "[ 0  1  2  3  4  7  8  9 10 11 13 14 15 16 17 19 23 24 25 26 29 30 32 39\n",
            " 40 43 44 46 47 49 50 51 54 55 57 58 59 64]\n"
          ]
        }
      ],
      "source": [
        "c1_exists = prediction.loc[prediction.iloc[:,1] == c1_pred]\n",
        "print(c1_exists.index.values)"
      ]
    },
    {
      "cell_type": "code",
      "execution_count": null,
      "metadata": {
        "id": "xMywYFfHqEQQ"
      },
      "outputs": [],
      "source": [
        "print(prediction)"
      ]
    },
    {
      "cell_type": "code",
      "execution_count": null,
      "metadata": {
        "id": "vCAxGCwVYZ3O",
        "colab": {
          "base_uri": "https://localhost:8080/"
        },
        "outputId": "15ec2463-c52f-4955-b4d9-e82915e93820"
      },
      "outputs": [
        {
          "output_type": "stream",
          "name": "stdout",
          "text": [
            "       c0     c1     c2  label\n",
            "0   False  False   True  False\n",
            "1   False  False  False  False\n",
            "2   False  False  False  False\n",
            "3   False  False  False  False\n",
            "4   False  False  False  False\n",
            "5   False  False  False  False\n",
            "6   False  False  False  False\n",
            "7   False  False  False  False\n",
            "8   False  False  False  False\n",
            "9   False  False  False  False\n",
            "10  False  False  False  False\n",
            "11  False  False  False  False\n",
            "12  False  False  False  False\n",
            "13  False  False  False  False\n",
            "14  False  False  False  False\n",
            "15  False  False  False  False\n",
            "16  False  False   True  False\n",
            "17  False  False  False  False\n",
            "18  False  False  False  False\n",
            "19  False  False  False  False\n",
            "20  False  False  False  False\n",
            "21  False  False  False  False\n",
            "22  False  False  False  False\n",
            "23  False  False  False  False\n",
            "24  False  False  False  False\n",
            "25  False  False  False  False\n",
            "26  False  False  False  False\n",
            "27  False  False  False  False\n",
            "28  False  False  False  False\n",
            "29  False  False  False  False\n",
            "30  False  False  False  False\n",
            "31  False  False  False  False\n",
            "32  False  False  False  False\n",
            "33  False  False  False  False\n",
            "34  False  False  False  False\n",
            "35  False  False  False  False\n",
            "36  False  False  False  False\n",
            "37  False  False  False  False\n",
            "38  False  False  False  False\n",
            "39  False  False  False  False\n",
            "40  False  False  False  False\n",
            "41  False  False   True  False\n",
            "42  False  False  False  False\n",
            "43  False  False  False  False\n",
            "44  False  False  False  False\n",
            "45  False  False   True  False\n",
            "46  False  False   True  False\n",
            "47  False  False  False  False\n",
            "48  False  False  False  False\n",
            "49  False  False   True  False\n",
            "50  False  False   True  False\n",
            "51  False  False  False  False\n",
            "52  False  False  False  False\n",
            "53  False  False   True  False\n",
            "54  False  False   True  False\n",
            "55  False  False  False  False\n",
            "56  False  False   True  False\n",
            "57  False  False  False  False\n",
            "58  False  False   True  False\n",
            "59  False  False  False  False\n",
            "60  False  False   True  False\n",
            "61  False  False  False  False\n",
            "62  False  False  False  False\n",
            "63  False  False   True  False\n",
            "64  False  False  False  False\n",
            "65  False  False  False  False\n"
          ]
        }
      ],
      "source": [
        "boolDf_c2 = prediction.isin([c2_pred])\n",
        "print(boolDf_c2)"
      ]
    },
    {
      "cell_type": "code",
      "execution_count": null,
      "metadata": {
        "id": "ptZU0SHKuqJA",
        "colab": {
          "base_uri": "https://localhost:8080/"
        },
        "outputId": "7fc59444-b28d-4f18-cbf4-0864afd176b8"
      },
      "outputs": [
        {
          "output_type": "stream",
          "name": "stdout",
          "text": [
            "TV exists in indices: [ 1 12 22 37 40 42 44 48 49 50 58]\n"
          ]
        }
      ],
      "source": [
        "c2_exists = prediction.loc[prediction['c2'] == c2_pred]\n",
        "print(\"TV exists in indices:\", c2_exists.index.values)"
      ]
    },
    {
      "cell_type": "markdown",
      "metadata": {
        "id": "8LaQENFOKhgW"
      },
      "source": [
        "# Use of Output shown:\n",
        "\n",
        "1.   **Shows which Appliances are working based on specific index.** \n",
        "2.   **Determines if Appliance was detected to be working at given index**\n",
        "3.   **Gives Index where Appliance is detected to be working**\n",
        "\n",
        "\n",
        "\n",
        "\n"
      ]
    }
  ],
  "metadata": {
    "colab": {
      "provenance": [],
      "include_colab_link": true
    },
    "kernelspec": {
      "display_name": "Python 3",
      "name": "python3"
    },
    "language_info": {
      "name": "python"
    }
  },
  "nbformat": 4,
  "nbformat_minor": 0
}